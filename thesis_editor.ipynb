{
 "cells": [
  {
   "cell_type": "markdown",
   "metadata": {},
   "source": [
    "# Editor \n",
    "\n",
    "#### This is the editor interface for Christopher Speed '24's Senior Thesis!\n",
    "\n",
    "This notebook allows you to edit together a stand-up comedy special using several different editing paradigms (as explained below). \n",
    "\n",
    "It provides both fully automated and manual editing methods, and facilitates exporting a completed video."
   ]
  },
  {
   "cell_type": "markdown",
   "metadata": {},
   "source": [
    "### Import core libraries "
   ]
  },
  {
   "cell_type": "code",
   "execution_count": 2,
   "metadata": {},
   "outputs": [],
   "source": [
    "%load_ext autoreload\n",
    "%autoreload 2\n"
   ]
  },
  {
   "cell_type": "code",
   "execution_count": 3,
   "metadata": {},
   "outputs": [],
   "source": [
    "from processing.load import setup_editor, load_edit, load_annotations\n",
    "from editor.editor import edit_random, edit_simple, edit_complex\n",
    "from editor.video import assemble"
   ]
  },
  {
   "cell_type": "markdown",
   "metadata": {},
   "source": [
    "### Initialize State\n",
    "\n",
    "At times, Jupyter notebooks can be fragile, requiring that you restart the kernel and reinitialize any variables. Given that this project involves processing lengthy video and audio files for editing, face detection, and other tasks, reloading and re-processing videos any time a restart is required would be incredibly unwieldy and inefficient, wasting considerable amounts of time.\n",
    "\n",
    "To address this, we do the following to make our application *stateful* to minimize the negative impact of notebook restarts and errors:\n",
    "- Until specified, each of the Python cells in this introductory portion of the notebook should be run **in order, top-to-bottom**. This provides a correct sequence of initialization for our edit and annotation data. \n",
    "- Each of the edit functions (`edit_simple`, `edit_complex`, and `edit_random`) saves the resulting edit sequence object as a pickled file to disk by default, allowing you to simply reinitialize the edit by unpickling the file in the case that a restart is required or you prefer the previous version of an edit.\n",
    "\t- these functions also permit specifying a new filename for the saved edits, allowing you to save multiple distinct edit sequences  "
   ]
  },
  {
   "cell_type": "markdown",
   "metadata": {},
   "source": [
    "### Set edit session names"
   ]
  },
  {
   "cell_type": "code",
   "execution_count": 36,
   "metadata": {},
   "outputs": [],
   "source": [
    "title_for_edit = \"demo\"\n",
    "\n",
    "annotation_title = \"demo_annotations\"\n",
    "clip_src_directory = \"\"\n",
    "previous_edit_filename = \"\"  # replace these later to load\n",
    "previous_annotation_filename = \"\" # replace these later to load"
   ]
  },
  {
   "cell_type": "code",
   "execution_count": 37,
   "metadata": {},
   "outputs": [
    {
     "name": "stdout",
     "output_type": "stream",
     "text": [
      "Loading Prior Annotations\n",
      "Saving clip annotations to demo_annotations.pkl\n",
      "Annotation Data Loaded\n",
      "Previous Edit exists! Loading it from disk.\n",
      "Loading previous edit from demo.pkl\n",
      "Previous Edit Data Loaded\n",
      "VideoSegment(filename=MetaClipData(filename='C:\\\\Users\\\\chris\\\\Desktop\\\\Senior Thesis\\\\Workspace\\\\Clip_Left_Synchronized.mp4', normalized_detection_areas=array([0., 0., 0., ..., 0., 0., 0.]), avg_normalized_area=0.7225848894286726, clip_height=1080, clip_width=1920), start=9, end=9)\n",
      "VideoSegment(filename=MetaClipData(filename='C:\\\\Users\\\\chris\\\\Desktop\\\\Senior Thesis\\\\Workspace\\\\Clip_Right_Synchronized.mp4', normalized_detection_areas=array([0., 0., 0., ..., 0., 0., 0.]), avg_normalized_area=0.42229644248772835, clip_height=1080, clip_width=1920), start=9, end=19761)\n",
      "MetaClipData(filename='C:\\\\Users\\\\chris\\\\Desktop\\\\Senior Thesis\\\\Workspace\\\\Clip_Left_Synchronized.mp4', normalized_detection_areas=array([0., 0., 0., ..., 0., 0., 0.]), avg_normalized_area=0.7225848894286726, clip_height=1080, clip_width=1920)\n",
      "MetaClipData(filename='C:\\\\Users\\\\chris\\\\Desktop\\\\Senior Thesis\\\\Workspace\\\\Clip_Right_Synchronized.mp4', normalized_detection_areas=array([0., 0., 0., ..., 0., 0., 0.]), avg_normalized_area=0.42229644248772835, clip_height=1080, clip_width=1920)\n"
     ]
    }
   ],
   "source": [
    "edit, annotations = setup_editor(\n",
    "    new_edit_title=title_for_edit,\n",
    "    new_annotation_title=annotation_title,\n",
    "\tclips_src_dir=clip_src_directory,\n",
    " \tprevious_edit_filename=previous_edit_filename,\n",
    "  \tprevious_annotation_filename=previous_annotation_filename\n",
    ")\n",
    "for ed in edit.edit_list: print(ed)\n",
    "for ann in annotations: print(ann)"
   ]
  },
  {
   "cell_type": "markdown",
   "metadata": {},
   "source": [
    "# - Later cells may now be run arbitrarily; ordering requirements are relaxed -"
   ]
  },
  {
   "cell_type": "markdown",
   "metadata": {},
   "source": [
    "## Simple Editor"
   ]
  },
  {
   "cell_type": "code",
   "execution_count": 38,
   "metadata": {},
   "outputs": [],
   "source": [
    "start_clip = \"\""
   ]
  },
  {
   "cell_type": "code",
   "execution_count": null,
   "metadata": {},
   "outputs": [],
   "source": [
    "current_edit = load_edit(title_for_edit)\n",
    "annotations = load_annotations(annotation_title)\n",
    "edit = edit_simple(\n",
    "    current_edit=current_edit,\n",
    "    clips_and_annotations=annotations,\n",
    "    starting_clip=annotations[0],\n",
    "    threshold_frames=5,\n",
    "    cut_frequency_threshold_frames=480,\n",
    "    edit_start_time=0,\n",
    "    strictness_amt=0,\n",
    "    should_save=True\n",
    ")\n",
    "# NOTE: these numbers are entirely arbitrary and should be replaced to fit your needs\n",
    "print(len(edit.edit_list)) # see how many cuts the model recommends"
   ]
  },
  {
   "cell_type": "code",
   "execution_count": null,
   "metadata": {},
   "outputs": [],
   "source": [
    "# view the result of the above edit\n",
    "for decision in edit.edit_list:\n",
    "    print(decision)"
   ]
  },
  {
   "cell_type": "markdown",
   "metadata": {},
   "source": [
    "## Complex Editor"
   ]
  },
  {
   "cell_type": "code",
   "execution_count": 27,
   "metadata": {},
   "outputs": [],
   "source": [
    "start_clip = \"\""
   ]
  },
  {
   "cell_type": "code",
   "execution_count": null,
   "metadata": {},
   "outputs": [],
   "source": [
    "current_edit = load_edit(title_for_edit)\n",
    "annotations = load_annotations(annotation_title)\n",
    "edit = edit_complex(\n",
    "    current_edit=current_edit,\n",
    "    clips_and_annotations=annotations,\n",
    "    starting_clip=annotations[0],\n",
    "    threshold_frames=5,\n",
    "    cut_frequency_threshold_frames=0,\n",
    "    edit_start_time=0,\n",
    "    strictness_amt=0,\n",
    "    hold_start_frames=300,\n",
    "    hold_end_frames=200,\n",
    "    should_save=True\n",
    ")\n",
    "# NOTE: these numbers are entirely arbitrary and should be replaced to fit your needs\n",
    "print(len(edit.edit_list)) # see how many cuts the model recommends"
   ]
  },
  {
   "cell_type": "code",
   "execution_count": null,
   "metadata": {},
   "outputs": [],
   "source": [
    "# view the result of the above edit\n",
    "for decision in edit.edit_list:\n",
    "    print(decision)"
   ]
  },
  {
   "cell_type": "markdown",
   "metadata": {},
   "source": [
    "## Random Editor"
   ]
  },
  {
   "cell_type": "code",
   "execution_count": null,
   "metadata": {},
   "outputs": [],
   "source": [
    "current_edit = load_edit(title_for_edit)\n",
    "annotations = load_annotations(annotation_title)\n",
    "edit = edit_random(\n",
    "    current_edit=current_edit,\n",
    "    clips_and_annotations=annotations,\n",
    "    num_cuts=60,\n",
    "    should_save=True\n",
    ")\n",
    "\n",
    "for e in edit.edit_list[:8]:\n",
    "    print(e)"
   ]
  },
  {
   "cell_type": "code",
   "execution_count": 35,
   "metadata": {},
   "outputs": [
    {
     "name": "stdout",
     "output_type": "stream",
     "text": [
      "[]\n"
     ]
    }
   ],
   "source": [
    "# view the result of the above edit\n",
    "for decision in edit.edit_list:\n",
    "    print(decision)"
   ]
  },
  {
   "cell_type": "markdown",
   "metadata": {},
   "source": [
    "#### Visualize a specific frame for detection"
   ]
  },
  {
   "cell_type": "code",
   "execution_count": 35,
   "metadata": {},
   "outputs": [],
   "source": [
    "import cv2\n",
    "\n",
    "def save_frame_with_face_detection(video_filename, frame_number, output_filename):\n",
    "    # Load the video\n",
    "    cap = cv2.VideoCapture(video_filename)\n",
    "\n",
    "    # Set the frame number\n",
    "    cap.set(cv2.CAP_PROP_POS_FRAMES, frame_number)\n",
    "\n",
    "    # Read the frame\n",
    "    ret, frame = cap.read()\n",
    "\n",
    "    # Check if frame is successfully read\n",
    "    if not ret:\n",
    "        print(\"Error: Could not read frame\")\n",
    "        return\n",
    "\n",
    "    # Load the pre-trained face cascade classifier\n",
    "    face_cascade = cv2.CascadeClassifier(cv2.data.haarcascades + 'haarcascade_frontalface_default.xml')\n",
    "\n",
    "    # Convert the frame to grayscale for face detection\n",
    "    gray = cv2.cvtColor(frame, cv2.COLOR_BGR2GRAY)\n",
    "\n",
    "    # Detect faces in the frame\n",
    "    faces = face_cascade.detectMultiScale(gray, scaleFactor=1.3, minNeighbors=5)\n",
    "\n",
    "    # Draw rectangles around the detected faces\n",
    "    for (x, y, w, h) in faces:\n",
    "        cv2.rectangle(frame, (x, y), (x+w, y+h), (255, 0, 0), 2)\n",
    "\n",
    "    # Save the frame with face detection borders drawn\n",
    "    cv2.imwrite(output_filename, frame)\n",
    "\n",
    "    # Release the video capture object\n",
    "    cap.release()\n",
    "\n",
    "# Example usage:\n",
    "left_video_filename = \"\"\n",
    "right_video_filename = \"\"\n",
    "frame_number = 1000 # Specify the frame number \n",
    "left_output_filename = left_video_filename[:-4] + '_output_frame_with_detection.png'\n",
    "right_output_filename = right_video_filename[:-4] + '_output_frame_with_detection.png'\n",
    "\n",
    "save_frame_with_face_detection(left_video_filename, frame_number, left_output_filename)\n",
    "save_frame_with_face_detection(right_video_filename, frame_number, right_output_filename)"
   ]
  },
  {
   "cell_type": "markdown",
   "metadata": {},
   "source": [
    "# Assemble Edit into Output Video"
   ]
  },
  {
   "cell_type": "code",
   "execution_count": 40,
   "metadata": {},
   "outputs": [
    {
     "name": "stdout",
     "output_type": "stream",
     "text": [
      "Edits to apply:\n",
      "VideoSegment(filename='C:\\\\Users\\\\chris\\\\Desktop\\\\Senior Thesis\\\\Workspace\\\\Clip_Left_Synchronized.mp4', start=0, end=3)\n",
      "VideoSegment(filename='C:\\\\Users\\\\chris\\\\Desktop\\\\Senior Thesis\\\\Workspace\\\\Clip_Right_Synchronized.mp4', start=4, end=699)\n",
      "VideoSegment(filename='C:\\\\Users\\\\chris\\\\Desktop\\\\Senior Thesis\\\\Workspace\\\\Clip_Left_Synchronized.mp4', start=700, end=1183)\n",
      "VideoSegment(filename='C:\\\\Users\\\\chris\\\\Desktop\\\\Senior Thesis\\\\Workspace\\\\Clip_Right_Synchronized.mp4', start=1184, end=1753)\n",
      "VideoSegment(filename='C:\\\\Users\\\\chris\\\\Desktop\\\\Senior Thesis\\\\Workspace\\\\Clip_Left_Synchronized.mp4', start=1754, end=2313)\n",
      "VideoSegment(filename='C:\\\\Users\\\\chris\\\\Desktop\\\\Senior Thesis\\\\Workspace\\\\Clip_Right_Synchronized.mp4', start=2314, end=2852)\n",
      "VideoSegment(filename='C:\\\\Users\\\\chris\\\\Desktop\\\\Senior Thesis\\\\Workspace\\\\Clip_Left_Synchronized.mp4', start=2853, end=3388)\n",
      "VideoSegment(filename='C:\\\\Users\\\\chris\\\\Desktop\\\\Senior Thesis\\\\Workspace\\\\Clip_Right_Synchronized.mp4', start=3389, end=4094)\n",
      "VideoSegment(filename='C:\\\\Users\\\\chris\\\\Desktop\\\\Senior Thesis\\\\Workspace\\\\Clip_Left_Synchronized.mp4', start=4095, end=4880)\n",
      "VideoSegment(filename='C:\\\\Users\\\\chris\\\\Desktop\\\\Senior Thesis\\\\Workspace\\\\Clip_Right_Synchronized.mp4', start=4881, end=5462)\n",
      "VideoSegment(filename='C:\\\\Users\\\\chris\\\\Desktop\\\\Senior Thesis\\\\Workspace\\\\Clip_Left_Synchronized.mp4', start=5463, end=6027)\n",
      "VideoSegment(filename='C:\\\\Users\\\\chris\\\\Desktop\\\\Senior Thesis\\\\Workspace\\\\Clip_Right_Synchronized.mp4', start=6028, end=6518)\n",
      "VideoSegment(filename='C:\\\\Users\\\\chris\\\\Desktop\\\\Senior Thesis\\\\Workspace\\\\Clip_Left_Synchronized.mp4', start=6519, end=7098)\n",
      "VideoSegment(filename='C:\\\\Users\\\\chris\\\\Desktop\\\\Senior Thesis\\\\Workspace\\\\Clip_Right_Synchronized.mp4', start=7099, end=7600)\n",
      "VideoSegment(filename='C:\\\\Users\\\\chris\\\\Desktop\\\\Senior Thesis\\\\Workspace\\\\Clip_Left_Synchronized.mp4', start=7601, end=8158)\n",
      "VideoSegment(filename='C:\\\\Users\\\\chris\\\\Desktop\\\\Senior Thesis\\\\Workspace\\\\Clip_Right_Synchronized.mp4', start=8159, end=8643)\n",
      "VideoSegment(filename='C:\\\\Users\\\\chris\\\\Desktop\\\\Senior Thesis\\\\Workspace\\\\Clip_Left_Synchronized.mp4', start=8644, end=9153)\n",
      "VideoSegment(filename='C:\\\\Users\\\\chris\\\\Desktop\\\\Senior Thesis\\\\Workspace\\\\Clip_Right_Synchronized.mp4', start=9154, end=9647)\n",
      "VideoSegment(filename='C:\\\\Users\\\\chris\\\\Desktop\\\\Senior Thesis\\\\Workspace\\\\Clip_Left_Synchronized.mp4', start=9648, end=10278)\n",
      "VideoSegment(filename='C:\\\\Users\\\\chris\\\\Desktop\\\\Senior Thesis\\\\Workspace\\\\Clip_Right_Synchronized.mp4', start=10279, end=10952)\n",
      "VideoSegment(filename='C:\\\\Users\\\\chris\\\\Desktop\\\\Senior Thesis\\\\Workspace\\\\Clip_Left_Synchronized.mp4', start=10953, end=11489)\n",
      "VideoSegment(filename='C:\\\\Users\\\\chris\\\\Desktop\\\\Senior Thesis\\\\Workspace\\\\Clip_Right_Synchronized.mp4', start=11490, end=12037)\n",
      "VideoSegment(filename='C:\\\\Users\\\\chris\\\\Desktop\\\\Senior Thesis\\\\Workspace\\\\Clip_Left_Synchronized.mp4', start=12038, end=12755)\n",
      "VideoSegment(filename='C:\\\\Users\\\\chris\\\\Desktop\\\\Senior Thesis\\\\Workspace\\\\Clip_Right_Synchronized.mp4', start=12756, end=13281)\n",
      "VideoSegment(filename='C:\\\\Users\\\\chris\\\\Desktop\\\\Senior Thesis\\\\Workspace\\\\Clip_Left_Synchronized.mp4', start=13282, end=13855)\n",
      "VideoSegment(filename='C:\\\\Users\\\\chris\\\\Desktop\\\\Senior Thesis\\\\Workspace\\\\Clip_Right_Synchronized.mp4', start=13856, end=14338)\n",
      "VideoSegment(filename='C:\\\\Users\\\\chris\\\\Desktop\\\\Senior Thesis\\\\Workspace\\\\Clip_Left_Synchronized.mp4', start=14339, end=14849)\n",
      "VideoSegment(filename='C:\\\\Users\\\\chris\\\\Desktop\\\\Senior Thesis\\\\Workspace\\\\Clip_Right_Synchronized.mp4', start=14850, end=15366)\n",
      "VideoSegment(filename='C:\\\\Users\\\\chris\\\\Desktop\\\\Senior Thesis\\\\Workspace\\\\Clip_Left_Synchronized.mp4', start=15367, end=16043)\n",
      "VideoSegment(filename='C:\\\\Users\\\\chris\\\\Desktop\\\\Senior Thesis\\\\Workspace\\\\Clip_Right_Synchronized.mp4', start=16044, end=16544)\n",
      "VideoSegment(filename='C:\\\\Users\\\\chris\\\\Desktop\\\\Senior Thesis\\\\Workspace\\\\Clip_Left_Synchronized.mp4', start=16545, end=17255)\n",
      "VideoSegment(filename='C:\\\\Users\\\\chris\\\\Desktop\\\\Senior Thesis\\\\Workspace\\\\Clip_Right_Synchronized.mp4', start=17256, end=18033)\n",
      "VideoSegment(filename='C:\\\\Users\\\\chris\\\\Desktop\\\\Senior Thesis\\\\Workspace\\\\Clip_Left_Synchronized.mp4', start=18034, end=18731)\n",
      "VideoSegment(filename='C:\\\\Users\\\\chris\\\\Desktop\\\\Senior Thesis\\\\Workspace\\\\Clip_Right_Synchronized.mp4', start=18732, end=19268)\n",
      "VideoSegment(filename='C:\\\\Users\\\\chris\\\\Desktop\\\\Senior Thesis\\\\Workspace\\\\Clip_Left_Synchronized.mp4', start=19269, end=19761)\n",
      "full output.mp4\n",
      "--- Beginning Video Segment Assembly ---\n",
      "Current Segment -> file: C:\\Users\\chris\\Desktop\\Senior Thesis\\Workspace\\Clip_Left_Synchronized.mp4 start: 0.0 end: 0.1\n",
      "Temporary clip C:\\Users\\chris\\Desktop\\Senior Thesis\\Workspace\\Clip_Left_Synchronized_5c4bf664-1d44-4401-b738-24436aa33f9b.mp4 with duration 1.1 created...\n",
      "['ffmpeg', '-y', '-i', 'C:\\\\Users\\\\chris\\\\Desktop\\\\Senior Thesis\\\\Workspace\\\\Clip_Left_Synchronized.mp4', '-ss', '0.0', '-t', '0.1', '-c:v', 'libx264', '-c:a', 'aac', '-preset', 'fast', 'C:\\\\Users\\\\chris\\\\Desktop\\\\Senior Thesis\\\\Workspace\\\\Clip_Left_Synchronized_5c4bf664-1d44-4401-b738-24436aa33f9b.mp4']\n",
      "Current Segment -> file: C:\\Users\\chris\\Desktop\\Senior Thesis\\Workspace\\Clip_Right_Synchronized.mp4 start: 0.13333333333333333 end: 23.3\n",
      "Temporary clip C:\\Users\\chris\\Desktop\\Senior Thesis\\Workspace\\Clip_Right_Synchronized_874f3bbd-9c99-446e-a828-4e5c781074a7.mp4 with duration 24.166666666666668 created...\n",
      "['ffmpeg', '-y', '-i', 'C:\\\\Users\\\\chris\\\\Desktop\\\\Senior Thesis\\\\Workspace\\\\Clip_Right_Synchronized.mp4', '-ss', '0.13333333333333333', '-t', '23.166666666666668', '-c:v', 'libx264', '-c:a', 'aac', '-preset', 'fast', 'C:\\\\Users\\\\chris\\\\Desktop\\\\Senior Thesis\\\\Workspace\\\\Clip_Right_Synchronized_874f3bbd-9c99-446e-a828-4e5c781074a7.mp4']\n",
      "Current Segment -> file: C:\\Users\\chris\\Desktop\\Senior Thesis\\Workspace\\Clip_Left_Synchronized.mp4 start: 23.333333333333332 end: 39.43333333333333\n",
      "Temporary clip C:\\Users\\chris\\Desktop\\Senior Thesis\\Workspace\\Clip_Left_Synchronized_132d1645-f288-4fd9-8daa-c227648d5656.mp4 with duration 17.099999999999998 created...\n",
      "['ffmpeg', '-y', '-i', 'C:\\\\Users\\\\chris\\\\Desktop\\\\Senior Thesis\\\\Workspace\\\\Clip_Left_Synchronized.mp4', '-ss', '23.333333333333332', '-t', '16.099999999999998', '-c:v', 'libx264', '-c:a', 'aac', '-preset', 'fast', 'C:\\\\Users\\\\chris\\\\Desktop\\\\Senior Thesis\\\\Workspace\\\\Clip_Left_Synchronized_132d1645-f288-4fd9-8daa-c227648d5656.mp4']\n",
      "Current Segment -> file: C:\\Users\\chris\\Desktop\\Senior Thesis\\Workspace\\Clip_Right_Synchronized.mp4 start: 39.46666666666667 end: 58.43333333333333\n",
      "Temporary clip C:\\Users\\chris\\Desktop\\Senior Thesis\\Workspace\\Clip_Right_Synchronized_db969a28-9c3f-4211-8ee9-74cb8ea5ddc6.mp4 with duration 19.96666666666666 created...\n",
      "['ffmpeg', '-y', '-i', 'C:\\\\Users\\\\chris\\\\Desktop\\\\Senior Thesis\\\\Workspace\\\\Clip_Right_Synchronized.mp4', '-ss', '39.46666666666667', '-t', '18.96666666666666', '-c:v', 'libx264', '-c:a', 'aac', '-preset', 'fast', 'C:\\\\Users\\\\chris\\\\Desktop\\\\Senior Thesis\\\\Workspace\\\\Clip_Right_Synchronized_db969a28-9c3f-4211-8ee9-74cb8ea5ddc6.mp4']\n",
      "Current Segment -> file: C:\\Users\\chris\\Desktop\\Senior Thesis\\Workspace\\Clip_Left_Synchronized.mp4 start: 58.46666666666667 end: 77.1\n",
      "Temporary clip C:\\Users\\chris\\Desktop\\Senior Thesis\\Workspace\\Clip_Left_Synchronized_b632e71e-d6a7-4cd4-b91d-e3f17c2ed828.mp4 with duration 19.633333333333326 created...\n",
      "['ffmpeg', '-y', '-i', 'C:\\\\Users\\\\chris\\\\Desktop\\\\Senior Thesis\\\\Workspace\\\\Clip_Left_Synchronized.mp4', '-ss', '58.46666666666667', '-t', '18.633333333333326', '-c:v', 'libx264', '-c:a', 'aac', '-preset', 'fast', 'C:\\\\Users\\\\chris\\\\Desktop\\\\Senior Thesis\\\\Workspace\\\\Clip_Left_Synchronized_b632e71e-d6a7-4cd4-b91d-e3f17c2ed828.mp4']\n",
      "Current Segment -> file: C:\\Users\\chris\\Desktop\\Senior Thesis\\Workspace\\Clip_Right_Synchronized.mp4 start: 77.13333333333334 end: 95.06666666666666\n",
      "Temporary clip C:\\Users\\chris\\Desktop\\Senior Thesis\\Workspace\\Clip_Right_Synchronized_3472fab5-21f2-4e5b-aafd-81b9eed17b35.mp4 with duration 18.933333333333323 created...\n",
      "['ffmpeg', '-y', '-i', 'C:\\\\Users\\\\chris\\\\Desktop\\\\Senior Thesis\\\\Workspace\\\\Clip_Right_Synchronized.mp4', '-ss', '77.13333333333334', '-t', '17.933333333333323', '-c:v', 'libx264', '-c:a', 'aac', '-preset', 'fast', 'C:\\\\Users\\\\chris\\\\Desktop\\\\Senior Thesis\\\\Workspace\\\\Clip_Right_Synchronized_3472fab5-21f2-4e5b-aafd-81b9eed17b35.mp4']\n",
      "Current Segment -> file: C:\\Users\\chris\\Desktop\\Senior Thesis\\Workspace\\Clip_Left_Synchronized.mp4 start: 95.1 end: 112.93333333333334\n",
      "Temporary clip C:\\Users\\chris\\Desktop\\Senior Thesis\\Workspace\\Clip_Left_Synchronized_deb7b3b2-4fa2-45e2-adc4-d64386fa6734.mp4 with duration 18.833333333333343 created...\n",
      "['ffmpeg', '-y', '-i', 'C:\\\\Users\\\\chris\\\\Desktop\\\\Senior Thesis\\\\Workspace\\\\Clip_Left_Synchronized.mp4', '-ss', '95.1', '-t', '17.833333333333343', '-c:v', 'libx264', '-c:a', 'aac', '-preset', 'fast', 'C:\\\\Users\\\\chris\\\\Desktop\\\\Senior Thesis\\\\Workspace\\\\Clip_Left_Synchronized_deb7b3b2-4fa2-45e2-adc4-d64386fa6734.mp4']\n",
      "Current Segment -> file: C:\\Users\\chris\\Desktop\\Senior Thesis\\Workspace\\Clip_Right_Synchronized.mp4 start: 112.96666666666667 end: 136.46666666666667\n",
      "Temporary clip C:\\Users\\chris\\Desktop\\Senior Thesis\\Workspace\\Clip_Right_Synchronized_21e18509-85d5-44f6-afe0-8b3b55903963.mp4 with duration 24.5 created...\n",
      "['ffmpeg', '-y', '-i', 'C:\\\\Users\\\\chris\\\\Desktop\\\\Senior Thesis\\\\Workspace\\\\Clip_Right_Synchronized.mp4', '-ss', '112.96666666666667', '-t', '23.5', '-c:v', 'libx264', '-c:a', 'aac', '-preset', 'fast', 'C:\\\\Users\\\\chris\\\\Desktop\\\\Senior Thesis\\\\Workspace\\\\Clip_Right_Synchronized_21e18509-85d5-44f6-afe0-8b3b55903963.mp4']\n",
      "Current Segment -> file: C:\\Users\\chris\\Desktop\\Senior Thesis\\Workspace\\Clip_Left_Synchronized.mp4 start: 136.5 end: 162.66666666666666\n",
      "Temporary clip C:\\Users\\chris\\Desktop\\Senior Thesis\\Workspace\\Clip_Left_Synchronized_03b28117-8fea-4d6b-bfa1-950bd65ad271.mp4 with duration 27.166666666666657 created...\n",
      "['ffmpeg', '-y', '-i', 'C:\\\\Users\\\\chris\\\\Desktop\\\\Senior Thesis\\\\Workspace\\\\Clip_Left_Synchronized.mp4', '-ss', '136.5', '-t', '26.166666666666657', '-c:v', 'libx264', '-c:a', 'aac', '-preset', 'fast', 'C:\\\\Users\\\\chris\\\\Desktop\\\\Senior Thesis\\\\Workspace\\\\Clip_Left_Synchronized_03b28117-8fea-4d6b-bfa1-950bd65ad271.mp4']\n",
      "Current Segment -> file: C:\\Users\\chris\\Desktop\\Senior Thesis\\Workspace\\Clip_Right_Synchronized.mp4 start: 162.7 end: 182.06666666666666\n",
      "Temporary clip C:\\Users\\chris\\Desktop\\Senior Thesis\\Workspace\\Clip_Right_Synchronized_d0722f79-80ac-4b52-b938-5ad6557616ea.mp4 with duration 20.366666666666674 created...\n",
      "['ffmpeg', '-y', '-i', 'C:\\\\Users\\\\chris\\\\Desktop\\\\Senior Thesis\\\\Workspace\\\\Clip_Right_Synchronized.mp4', '-ss', '162.7', '-t', '19.366666666666674', '-c:v', 'libx264', '-c:a', 'aac', '-preset', 'fast', 'C:\\\\Users\\\\chris\\\\Desktop\\\\Senior Thesis\\\\Workspace\\\\Clip_Right_Synchronized_d0722f79-80ac-4b52-b938-5ad6557616ea.mp4']\n",
      "Current Segment -> file: C:\\Users\\chris\\Desktop\\Senior Thesis\\Workspace\\Clip_Left_Synchronized.mp4 start: 182.1 end: 200.9\n",
      "Temporary clip C:\\Users\\chris\\Desktop\\Senior Thesis\\Workspace\\Clip_Left_Synchronized_4ceb99c3-7ab3-4a7b-9923-5e9ee3f91aeb.mp4 with duration 19.80000000000001 created...\n",
      "['ffmpeg', '-y', '-i', 'C:\\\\Users\\\\chris\\\\Desktop\\\\Senior Thesis\\\\Workspace\\\\Clip_Left_Synchronized.mp4', '-ss', '182.1', '-t', '18.80000000000001', '-c:v', 'libx264', '-c:a', 'aac', '-preset', 'fast', 'C:\\\\Users\\\\chris\\\\Desktop\\\\Senior Thesis\\\\Workspace\\\\Clip_Left_Synchronized_4ceb99c3-7ab3-4a7b-9923-5e9ee3f91aeb.mp4']\n",
      "Current Segment -> file: C:\\Users\\chris\\Desktop\\Senior Thesis\\Workspace\\Clip_Right_Synchronized.mp4 start: 200.93333333333334 end: 217.26666666666668\n",
      "Temporary clip C:\\Users\\chris\\Desktop\\Senior Thesis\\Workspace\\Clip_Right_Synchronized_ea3ac5e0-bd3f-479a-9e15-29dd1c24286b.mp4 with duration 17.333333333333343 created...\n",
      "['ffmpeg', '-y', '-i', 'C:\\\\Users\\\\chris\\\\Desktop\\\\Senior Thesis\\\\Workspace\\\\Clip_Right_Synchronized.mp4', '-ss', '200.93333333333334', '-t', '16.333333333333343', '-c:v', 'libx264', '-c:a', 'aac', '-preset', 'fast', 'C:\\\\Users\\\\chris\\\\Desktop\\\\Senior Thesis\\\\Workspace\\\\Clip_Right_Synchronized_ea3ac5e0-bd3f-479a-9e15-29dd1c24286b.mp4']\n",
      "Current Segment -> file: C:\\Users\\chris\\Desktop\\Senior Thesis\\Workspace\\Clip_Left_Synchronized.mp4 start: 217.3 end: 236.6\n",
      "Temporary clip C:\\Users\\chris\\Desktop\\Senior Thesis\\Workspace\\Clip_Left_Synchronized_efc1483d-2d06-4162-a503-3c738dea6d68.mp4 with duration 20.299999999999983 created...\n",
      "['ffmpeg', '-y', '-i', 'C:\\\\Users\\\\chris\\\\Desktop\\\\Senior Thesis\\\\Workspace\\\\Clip_Left_Synchronized.mp4', '-ss', '217.3', '-t', '19.299999999999983', '-c:v', 'libx264', '-c:a', 'aac', '-preset', 'fast', 'C:\\\\Users\\\\chris\\\\Desktop\\\\Senior Thesis\\\\Workspace\\\\Clip_Left_Synchronized_efc1483d-2d06-4162-a503-3c738dea6d68.mp4']\n",
      "Current Segment -> file: C:\\Users\\chris\\Desktop\\Senior Thesis\\Workspace\\Clip_Right_Synchronized.mp4 start: 236.63333333333333 end: 253.33333333333334\n",
      "Temporary clip C:\\Users\\chris\\Desktop\\Senior Thesis\\Workspace\\Clip_Right_Synchronized_754a52e1-4cd8-456b-afe8-451a1f1a9608.mp4 with duration 17.700000000000017 created...\n",
      "['ffmpeg', '-y', '-i', 'C:\\\\Users\\\\chris\\\\Desktop\\\\Senior Thesis\\\\Workspace\\\\Clip_Right_Synchronized.mp4', '-ss', '236.63333333333333', '-t', '16.700000000000017', '-c:v', 'libx264', '-c:a', 'aac', '-preset', 'fast', 'C:\\\\Users\\\\chris\\\\Desktop\\\\Senior Thesis\\\\Workspace\\\\Clip_Right_Synchronized_754a52e1-4cd8-456b-afe8-451a1f1a9608.mp4']\n",
      "Current Segment -> file: C:\\Users\\chris\\Desktop\\Senior Thesis\\Workspace\\Clip_Left_Synchronized.mp4 start: 253.36666666666667 end: 271.93333333333334\n",
      "Temporary clip C:\\Users\\chris\\Desktop\\Senior Thesis\\Workspace\\Clip_Left_Synchronized_7875cbb5-ffae-4232-8e93-22b43ad5dc00.mp4 with duration 19.566666666666663 created...\n",
      "['ffmpeg', '-y', '-i', 'C:\\\\Users\\\\chris\\\\Desktop\\\\Senior Thesis\\\\Workspace\\\\Clip_Left_Synchronized.mp4', '-ss', '253.36666666666667', '-t', '18.566666666666663', '-c:v', 'libx264', '-c:a', 'aac', '-preset', 'fast', 'C:\\\\Users\\\\chris\\\\Desktop\\\\Senior Thesis\\\\Workspace\\\\Clip_Left_Synchronized_7875cbb5-ffae-4232-8e93-22b43ad5dc00.mp4']\n",
      "Current Segment -> file: C:\\Users\\chris\\Desktop\\Senior Thesis\\Workspace\\Clip_Right_Synchronized.mp4 start: 271.96666666666664 end: 288.1\n",
      "Temporary clip C:\\Users\\chris\\Desktop\\Senior Thesis\\Workspace\\Clip_Right_Synchronized_47a36104-ba65-46ac-a6c5-0e156760ebac.mp4 with duration 17.133333333333383 created...\n",
      "['ffmpeg', '-y', '-i', 'C:\\\\Users\\\\chris\\\\Desktop\\\\Senior Thesis\\\\Workspace\\\\Clip_Right_Synchronized.mp4', '-ss', '271.96666666666664', '-t', '16.133333333333383', '-c:v', 'libx264', '-c:a', 'aac', '-preset', 'fast', 'C:\\\\Users\\\\chris\\\\Desktop\\\\Senior Thesis\\\\Workspace\\\\Clip_Right_Synchronized_47a36104-ba65-46ac-a6c5-0e156760ebac.mp4']\n",
      "Current Segment -> file: C:\\Users\\chris\\Desktop\\Senior Thesis\\Workspace\\Clip_Left_Synchronized.mp4 start: 288.1333333333333 end: 305.1\n",
      "Temporary clip C:\\Users\\chris\\Desktop\\Senior Thesis\\Workspace\\Clip_Left_Synchronized_d66c59d6-cbe9-43c3-8547-3fd2828184cc.mp4 with duration 17.966666666666697 created...\n",
      "['ffmpeg', '-y', '-i', 'C:\\\\Users\\\\chris\\\\Desktop\\\\Senior Thesis\\\\Workspace\\\\Clip_Left_Synchronized.mp4', '-ss', '288.1333333333333', '-t', '16.966666666666697', '-c:v', 'libx264', '-c:a', 'aac', '-preset', 'fast', 'C:\\\\Users\\\\chris\\\\Desktop\\\\Senior Thesis\\\\Workspace\\\\Clip_Left_Synchronized_d66c59d6-cbe9-43c3-8547-3fd2828184cc.mp4']\n",
      "Current Segment -> file: C:\\Users\\chris\\Desktop\\Senior Thesis\\Workspace\\Clip_Right_Synchronized.mp4 start: 305.1333333333333 end: 321.56666666666666\n",
      "Temporary clip C:\\Users\\chris\\Desktop\\Senior Thesis\\Workspace\\Clip_Right_Synchronized_71be4f11-a775-4e42-b682-775d016acb13.mp4 with duration 17.433333333333337 created...\n",
      "['ffmpeg', '-y', '-i', 'C:\\\\Users\\\\chris\\\\Desktop\\\\Senior Thesis\\\\Workspace\\\\Clip_Right_Synchronized.mp4', '-ss', '305.1333333333333', '-t', '16.433333333333337', '-c:v', 'libx264', '-c:a', 'aac', '-preset', 'fast', 'C:\\\\Users\\\\chris\\\\Desktop\\\\Senior Thesis\\\\Workspace\\\\Clip_Right_Synchronized_71be4f11-a775-4e42-b682-775d016acb13.mp4']\n",
      "Current Segment -> file: C:\\Users\\chris\\Desktop\\Senior Thesis\\Workspace\\Clip_Left_Synchronized.mp4 start: 321.6 end: 342.6\n",
      "Temporary clip C:\\Users\\chris\\Desktop\\Senior Thesis\\Workspace\\Clip_Left_Synchronized_6e6769cb-95aa-4d01-b0fc-9b818b0d4540.mp4 with duration 22.0 created...\n",
      "['ffmpeg', '-y', '-i', 'C:\\\\Users\\\\chris\\\\Desktop\\\\Senior Thesis\\\\Workspace\\\\Clip_Left_Synchronized.mp4', '-ss', '321.6', '-t', '21.0', '-c:v', 'libx264', '-c:a', 'aac', '-preset', 'fast', 'C:\\\\Users\\\\chris\\\\Desktop\\\\Senior Thesis\\\\Workspace\\\\Clip_Left_Synchronized_6e6769cb-95aa-4d01-b0fc-9b818b0d4540.mp4']\n",
      "Current Segment -> file: C:\\Users\\chris\\Desktop\\Senior Thesis\\Workspace\\Clip_Right_Synchronized.mp4 start: 342.6333333333333 end: 365.06666666666666\n",
      "Temporary clip C:\\Users\\chris\\Desktop\\Senior Thesis\\Workspace\\Clip_Right_Synchronized_1c5c1ead-e811-49c9-bde0-8f320e39f47b.mp4 with duration 23.433333333333337 created...\n",
      "['ffmpeg', '-y', '-i', 'C:\\\\Users\\\\chris\\\\Desktop\\\\Senior Thesis\\\\Workspace\\\\Clip_Right_Synchronized.mp4', '-ss', '342.6333333333333', '-t', '22.433333333333337', '-c:v', 'libx264', '-c:a', 'aac', '-preset', 'fast', 'C:\\\\Users\\\\chris\\\\Desktop\\\\Senior Thesis\\\\Workspace\\\\Clip_Right_Synchronized_1c5c1ead-e811-49c9-bde0-8f320e39f47b.mp4']\n",
      "Current Segment -> file: C:\\Users\\chris\\Desktop\\Senior Thesis\\Workspace\\Clip_Left_Synchronized.mp4 start: 365.1 end: 382.96666666666664\n",
      "Temporary clip C:\\Users\\chris\\Desktop\\Senior Thesis\\Workspace\\Clip_Left_Synchronized_8de98d39-3732-42b2-b374-86375880c311.mp4 with duration 18.866666666666617 created...\n",
      "['ffmpeg', '-y', '-i', 'C:\\\\Users\\\\chris\\\\Desktop\\\\Senior Thesis\\\\Workspace\\\\Clip_Left_Synchronized.mp4', '-ss', '365.1', '-t', '17.866666666666617', '-c:v', 'libx264', '-c:a', 'aac', '-preset', 'fast', 'C:\\\\Users\\\\chris\\\\Desktop\\\\Senior Thesis\\\\Workspace\\\\Clip_Left_Synchronized_8de98d39-3732-42b2-b374-86375880c311.mp4']\n",
      "Current Segment -> file: C:\\Users\\chris\\Desktop\\Senior Thesis\\Workspace\\Clip_Right_Synchronized.mp4 start: 383.0 end: 401.23333333333335\n",
      "Temporary clip C:\\Users\\chris\\Desktop\\Senior Thesis\\Workspace\\Clip_Right_Synchronized_866278f2-0488-4e70-a634-9e448858bd99.mp4 with duration 19.23333333333335 created...\n",
      "['ffmpeg', '-y', '-i', 'C:\\\\Users\\\\chris\\\\Desktop\\\\Senior Thesis\\\\Workspace\\\\Clip_Right_Synchronized.mp4', '-ss', '383.0', '-t', '18.23333333333335', '-c:v', 'libx264', '-c:a', 'aac', '-preset', 'fast', 'C:\\\\Users\\\\chris\\\\Desktop\\\\Senior Thesis\\\\Workspace\\\\Clip_Right_Synchronized_866278f2-0488-4e70-a634-9e448858bd99.mp4']\n",
      "Current Segment -> file: C:\\Users\\chris\\Desktop\\Senior Thesis\\Workspace\\Clip_Left_Synchronized.mp4 start: 401.26666666666665 end: 425.1666666666667\n",
      "Temporary clip C:\\Users\\chris\\Desktop\\Senior Thesis\\Workspace\\Clip_Left_Synchronized_7b462b26-e50c-43c1-a50e-d0550c50c0f4.mp4 with duration 24.900000000000034 created...\n",
      "['ffmpeg', '-y', '-i', 'C:\\\\Users\\\\chris\\\\Desktop\\\\Senior Thesis\\\\Workspace\\\\Clip_Left_Synchronized.mp4', '-ss', '401.26666666666665', '-t', '23.900000000000034', '-c:v', 'libx264', '-c:a', 'aac', '-preset', 'fast', 'C:\\\\Users\\\\chris\\\\Desktop\\\\Senior Thesis\\\\Workspace\\\\Clip_Left_Synchronized_7b462b26-e50c-43c1-a50e-d0550c50c0f4.mp4']\n",
      "Current Segment -> file: C:\\Users\\chris\\Desktop\\Senior Thesis\\Workspace\\Clip_Right_Synchronized.mp4 start: 425.2 end: 442.7\n",
      "Temporary clip C:\\Users\\chris\\Desktop\\Senior Thesis\\Workspace\\Clip_Right_Synchronized_809c1c5f-ed62-4e65-bd23-cb17d65e58cc.mp4 with duration 18.5 created...\n",
      "['ffmpeg', '-y', '-i', 'C:\\\\Users\\\\chris\\\\Desktop\\\\Senior Thesis\\\\Workspace\\\\Clip_Right_Synchronized.mp4', '-ss', '425.2', '-t', '17.5', '-c:v', 'libx264', '-c:a', 'aac', '-preset', 'fast', 'C:\\\\Users\\\\chris\\\\Desktop\\\\Senior Thesis\\\\Workspace\\\\Clip_Right_Synchronized_809c1c5f-ed62-4e65-bd23-cb17d65e58cc.mp4']\n",
      "Current Segment -> file: C:\\Users\\chris\\Desktop\\Senior Thesis\\Workspace\\Clip_Left_Synchronized.mp4 start: 442.73333333333335 end: 461.8333333333333\n",
      "Temporary clip C:\\Users\\chris\\Desktop\\Senior Thesis\\Workspace\\Clip_Left_Synchronized_a25548b4-57c7-4c65-b94b-5ca386da7b53.mp4 with duration 20.099999999999966 created...\n",
      "['ffmpeg', '-y', '-i', 'C:\\\\Users\\\\chris\\\\Desktop\\\\Senior Thesis\\\\Workspace\\\\Clip_Left_Synchronized.mp4', '-ss', '442.73333333333335', '-t', '19.099999999999966', '-c:v', 'libx264', '-c:a', 'aac', '-preset', 'fast', 'C:\\\\Users\\\\chris\\\\Desktop\\\\Senior Thesis\\\\Workspace\\\\Clip_Left_Synchronized_a25548b4-57c7-4c65-b94b-5ca386da7b53.mp4']\n",
      "Current Segment -> file: C:\\Users\\chris\\Desktop\\Senior Thesis\\Workspace\\Clip_Right_Synchronized.mp4 start: 461.8666666666667 end: 477.93333333333334\n",
      "Temporary clip C:\\Users\\chris\\Desktop\\Senior Thesis\\Workspace\\Clip_Right_Synchronized_89f53800-0922-454f-8cf2-bbb844766989.mp4 with duration 17.066666666666663 created...\n",
      "['ffmpeg', '-y', '-i', 'C:\\\\Users\\\\chris\\\\Desktop\\\\Senior Thesis\\\\Workspace\\\\Clip_Right_Synchronized.mp4', '-ss', '461.8666666666667', '-t', '16.066666666666663', '-c:v', 'libx264', '-c:a', 'aac', '-preset', 'fast', 'C:\\\\Users\\\\chris\\\\Desktop\\\\Senior Thesis\\\\Workspace\\\\Clip_Right_Synchronized_89f53800-0922-454f-8cf2-bbb844766989.mp4']\n",
      "Current Segment -> file: C:\\Users\\chris\\Desktop\\Senior Thesis\\Workspace\\Clip_Left_Synchronized.mp4 start: 477.96666666666664 end: 494.96666666666664\n",
      "Temporary clip C:\\Users\\chris\\Desktop\\Senior Thesis\\Workspace\\Clip_Left_Synchronized_dbb27cab-483b-4077-9381-b0af0437490c.mp4 with duration 18.0 created...\n",
      "['ffmpeg', '-y', '-i', 'C:\\\\Users\\\\chris\\\\Desktop\\\\Senior Thesis\\\\Workspace\\\\Clip_Left_Synchronized.mp4', '-ss', '477.96666666666664', '-t', '17.0', '-c:v', 'libx264', '-c:a', 'aac', '-preset', 'fast', 'C:\\\\Users\\\\chris\\\\Desktop\\\\Senior Thesis\\\\Workspace\\\\Clip_Left_Synchronized_dbb27cab-483b-4077-9381-b0af0437490c.mp4']\n",
      "Current Segment -> file: C:\\Users\\chris\\Desktop\\Senior Thesis\\Workspace\\Clip_Right_Synchronized.mp4 start: 495.0 end: 512.2\n",
      "Temporary clip C:\\Users\\chris\\Desktop\\Senior Thesis\\Workspace\\Clip_Right_Synchronized_14df98c1-995f-4a5a-97d8-1eb35e308bc6.mp4 with duration 18.200000000000045 created...\n",
      "['ffmpeg', '-y', '-i', 'C:\\\\Users\\\\chris\\\\Desktop\\\\Senior Thesis\\\\Workspace\\\\Clip_Right_Synchronized.mp4', '-ss', '495.0', '-t', '17.200000000000045', '-c:v', 'libx264', '-c:a', 'aac', '-preset', 'fast', 'C:\\\\Users\\\\chris\\\\Desktop\\\\Senior Thesis\\\\Workspace\\\\Clip_Right_Synchronized_14df98c1-995f-4a5a-97d8-1eb35e308bc6.mp4']\n",
      "Current Segment -> file: C:\\Users\\chris\\Desktop\\Senior Thesis\\Workspace\\Clip_Left_Synchronized.mp4 start: 512.2333333333333 end: 534.7666666666667\n",
      "Temporary clip C:\\Users\\chris\\Desktop\\Senior Thesis\\Workspace\\Clip_Left_Synchronized_78d504e3-12f6-4973-b7ef-ba8754d0616d.mp4 with duration 23.533333333333303 created...\n",
      "['ffmpeg', '-y', '-i', 'C:\\\\Users\\\\chris\\\\Desktop\\\\Senior Thesis\\\\Workspace\\\\Clip_Left_Synchronized.mp4', '-ss', '512.2333333333333', '-t', '22.533333333333303', '-c:v', 'libx264', '-c:a', 'aac', '-preset', 'fast', 'C:\\\\Users\\\\chris\\\\Desktop\\\\Senior Thesis\\\\Workspace\\\\Clip_Left_Synchronized_78d504e3-12f6-4973-b7ef-ba8754d0616d.mp4']\n",
      "Current Segment -> file: C:\\Users\\chris\\Desktop\\Senior Thesis\\Workspace\\Clip_Right_Synchronized.mp4 start: 534.8 end: 551.4666666666667\n",
      "Temporary clip C:\\Users\\chris\\Desktop\\Senior Thesis\\Workspace\\Clip_Right_Synchronized_d44dc9f5-ef8b-4a39-b899-c3c25a5d8022.mp4 with duration 17.666666666666742 created...\n",
      "['ffmpeg', '-y', '-i', 'C:\\\\Users\\\\chris\\\\Desktop\\\\Senior Thesis\\\\Workspace\\\\Clip_Right_Synchronized.mp4', '-ss', '534.8', '-t', '16.666666666666742', '-c:v', 'libx264', '-c:a', 'aac', '-preset', 'fast', 'C:\\\\Users\\\\chris\\\\Desktop\\\\Senior Thesis\\\\Workspace\\\\Clip_Right_Synchronized_d44dc9f5-ef8b-4a39-b899-c3c25a5d8022.mp4']\n",
      "Current Segment -> file: C:\\Users\\chris\\Desktop\\Senior Thesis\\Workspace\\Clip_Left_Synchronized.mp4 start: 551.5 end: 575.1666666666666\n",
      "Temporary clip C:\\Users\\chris\\Desktop\\Senior Thesis\\Workspace\\Clip_Left_Synchronized_6d699147-fba0-4981-a32a-28b5868d3085.mp4 with duration 24.66666666666663 created...\n",
      "['ffmpeg', '-y', '-i', 'C:\\\\Users\\\\chris\\\\Desktop\\\\Senior Thesis\\\\Workspace\\\\Clip_Left_Synchronized.mp4', '-ss', '551.5', '-t', '23.66666666666663', '-c:v', 'libx264', '-c:a', 'aac', '-preset', 'fast', 'C:\\\\Users\\\\chris\\\\Desktop\\\\Senior Thesis\\\\Workspace\\\\Clip_Left_Synchronized_6d699147-fba0-4981-a32a-28b5868d3085.mp4']\n",
      "Current Segment -> file: C:\\Users\\chris\\Desktop\\Senior Thesis\\Workspace\\Clip_Right_Synchronized.mp4 start: 575.2 end: 601.1\n",
      "Temporary clip C:\\Users\\chris\\Desktop\\Senior Thesis\\Workspace\\Clip_Right_Synchronized_6ff55dcd-5803-4152-af9b-ab39d6012f56.mp4 with duration 26.899999999999977 created...\n",
      "['ffmpeg', '-y', '-i', 'C:\\\\Users\\\\chris\\\\Desktop\\\\Senior Thesis\\\\Workspace\\\\Clip_Right_Synchronized.mp4', '-ss', '575.2', '-t', '25.899999999999977', '-c:v', 'libx264', '-c:a', 'aac', '-preset', 'fast', 'C:\\\\Users\\\\chris\\\\Desktop\\\\Senior Thesis\\\\Workspace\\\\Clip_Right_Synchronized_6ff55dcd-5803-4152-af9b-ab39d6012f56.mp4']\n",
      "Current Segment -> file: C:\\Users\\chris\\Desktop\\Senior Thesis\\Workspace\\Clip_Left_Synchronized.mp4 start: 601.1333333333333 end: 624.3666666666667\n",
      "Temporary clip C:\\Users\\chris\\Desktop\\Senior Thesis\\Workspace\\Clip_Left_Synchronized_f5aea98f-f8fe-4a9c-8c25-724edf735a44.mp4 with duration 24.23333333333335 created...\n",
      "['ffmpeg', '-y', '-i', 'C:\\\\Users\\\\chris\\\\Desktop\\\\Senior Thesis\\\\Workspace\\\\Clip_Left_Synchronized.mp4', '-ss', '601.1333333333333', '-t', '23.23333333333335', '-c:v', 'libx264', '-c:a', 'aac', '-preset', 'fast', 'C:\\\\Users\\\\chris\\\\Desktop\\\\Senior Thesis\\\\Workspace\\\\Clip_Left_Synchronized_f5aea98f-f8fe-4a9c-8c25-724edf735a44.mp4']\n",
      "Current Segment -> file: C:\\Users\\chris\\Desktop\\Senior Thesis\\Workspace\\Clip_Right_Synchronized.mp4 start: 624.4 end: 642.2666666666667\n",
      "Temporary clip C:\\Users\\chris\\Desktop\\Senior Thesis\\Workspace\\Clip_Right_Synchronized_3221f81f-e03a-412b-93a0-e8c0c132ba88.mp4 with duration 18.866666666666674 created...\n",
      "['ffmpeg', '-y', '-i', 'C:\\\\Users\\\\chris\\\\Desktop\\\\Senior Thesis\\\\Workspace\\\\Clip_Right_Synchronized.mp4', '-ss', '624.4', '-t', '17.866666666666674', '-c:v', 'libx264', '-c:a', 'aac', '-preset', 'fast', 'C:\\\\Users\\\\chris\\\\Desktop\\\\Senior Thesis\\\\Workspace\\\\Clip_Right_Synchronized_3221f81f-e03a-412b-93a0-e8c0c132ba88.mp4']\n",
      "Current Segment -> file: C:\\Users\\chris\\Desktop\\Senior Thesis\\Workspace\\Clip_Left_Synchronized.mp4 start: 642.3 end: 658.7\n",
      "Temporary clip C:\\Users\\chris\\Desktop\\Senior Thesis\\Workspace\\Clip_Left_Synchronized_693c343d-336e-4da5-abc7-2436c9778948.mp4 with duration 17.40000000000009 created...\n",
      "Final Clip in Sequence is being Extracted...\n",
      "['ffmpeg', '-y', '-i', 'C:\\\\Users\\\\chris\\\\Desktop\\\\Senior Thesis\\\\Workspace\\\\Clip_Left_Synchronized.mp4', '-ss', '642.3', '-c:v', 'libx264', '-c:a', 'aac', '-preset', 'fast', 'C:\\\\Users\\\\chris\\\\Desktop\\\\Senior Thesis\\\\Workspace\\\\Clip_Left_Synchronized_693c343d-336e-4da5-abc7-2436c9778948.mp4']\n",
      "Early exiting with 35 clips processed\n",
      "Temporary List File:  C:\\Users\\chris\\AppData\\Local\\Temp\\tmph9l4tyss\\input.txt\n",
      "About to attempt concatenation...\n",
      "Deleted temporary clip: C:\\Users\\chris\\Desktop\\Senior Thesis\\Workspace\\Clip_Left_Synchronized_5c4bf664-1d44-4401-b738-24436aa33f9b.mp4\n",
      "Deleted temporary clip: C:\\Users\\chris\\Desktop\\Senior Thesis\\Workspace\\Clip_Right_Synchronized_874f3bbd-9c99-446e-a828-4e5c781074a7.mp4\n",
      "Deleted temporary clip: C:\\Users\\chris\\Desktop\\Senior Thesis\\Workspace\\Clip_Left_Synchronized_132d1645-f288-4fd9-8daa-c227648d5656.mp4\n",
      "Deleted temporary clip: C:\\Users\\chris\\Desktop\\Senior Thesis\\Workspace\\Clip_Right_Synchronized_db969a28-9c3f-4211-8ee9-74cb8ea5ddc6.mp4\n",
      "Deleted temporary clip: C:\\Users\\chris\\Desktop\\Senior Thesis\\Workspace\\Clip_Left_Synchronized_b632e71e-d6a7-4cd4-b91d-e3f17c2ed828.mp4\n",
      "Deleted temporary clip: C:\\Users\\chris\\Desktop\\Senior Thesis\\Workspace\\Clip_Right_Synchronized_3472fab5-21f2-4e5b-aafd-81b9eed17b35.mp4\n",
      "Deleted temporary clip: C:\\Users\\chris\\Desktop\\Senior Thesis\\Workspace\\Clip_Left_Synchronized_deb7b3b2-4fa2-45e2-adc4-d64386fa6734.mp4\n",
      "Deleted temporary clip: C:\\Users\\chris\\Desktop\\Senior Thesis\\Workspace\\Clip_Right_Synchronized_21e18509-85d5-44f6-afe0-8b3b55903963.mp4\n",
      "Deleted temporary clip: C:\\Users\\chris\\Desktop\\Senior Thesis\\Workspace\\Clip_Left_Synchronized_03b28117-8fea-4d6b-bfa1-950bd65ad271.mp4\n",
      "Deleted temporary clip: C:\\Users\\chris\\Desktop\\Senior Thesis\\Workspace\\Clip_Right_Synchronized_d0722f79-80ac-4b52-b938-5ad6557616ea.mp4\n",
      "Deleted temporary clip: C:\\Users\\chris\\Desktop\\Senior Thesis\\Workspace\\Clip_Left_Synchronized_4ceb99c3-7ab3-4a7b-9923-5e9ee3f91aeb.mp4\n",
      "Deleted temporary clip: C:\\Users\\chris\\Desktop\\Senior Thesis\\Workspace\\Clip_Right_Synchronized_ea3ac5e0-bd3f-479a-9e15-29dd1c24286b.mp4\n",
      "Deleted temporary clip: C:\\Users\\chris\\Desktop\\Senior Thesis\\Workspace\\Clip_Left_Synchronized_efc1483d-2d06-4162-a503-3c738dea6d68.mp4\n",
      "Deleted temporary clip: C:\\Users\\chris\\Desktop\\Senior Thesis\\Workspace\\Clip_Right_Synchronized_754a52e1-4cd8-456b-afe8-451a1f1a9608.mp4\n",
      "Deleted temporary clip: C:\\Users\\chris\\Desktop\\Senior Thesis\\Workspace\\Clip_Left_Synchronized_7875cbb5-ffae-4232-8e93-22b43ad5dc00.mp4\n",
      "Deleted temporary clip: C:\\Users\\chris\\Desktop\\Senior Thesis\\Workspace\\Clip_Right_Synchronized_47a36104-ba65-46ac-a6c5-0e156760ebac.mp4\n",
      "Deleted temporary clip: C:\\Users\\chris\\Desktop\\Senior Thesis\\Workspace\\Clip_Left_Synchronized_d66c59d6-cbe9-43c3-8547-3fd2828184cc.mp4\n",
      "Deleted temporary clip: C:\\Users\\chris\\Desktop\\Senior Thesis\\Workspace\\Clip_Right_Synchronized_71be4f11-a775-4e42-b682-775d016acb13.mp4\n",
      "Deleted temporary clip: C:\\Users\\chris\\Desktop\\Senior Thesis\\Workspace\\Clip_Left_Synchronized_6e6769cb-95aa-4d01-b0fc-9b818b0d4540.mp4\n",
      "Deleted temporary clip: C:\\Users\\chris\\Desktop\\Senior Thesis\\Workspace\\Clip_Right_Synchronized_1c5c1ead-e811-49c9-bde0-8f320e39f47b.mp4\n",
      "Deleted temporary clip: C:\\Users\\chris\\Desktop\\Senior Thesis\\Workspace\\Clip_Left_Synchronized_8de98d39-3732-42b2-b374-86375880c311.mp4\n",
      "Deleted temporary clip: C:\\Users\\chris\\Desktop\\Senior Thesis\\Workspace\\Clip_Right_Synchronized_866278f2-0488-4e70-a634-9e448858bd99.mp4\n",
      "Deleted temporary clip: C:\\Users\\chris\\Desktop\\Senior Thesis\\Workspace\\Clip_Left_Synchronized_7b462b26-e50c-43c1-a50e-d0550c50c0f4.mp4\n",
      "Deleted temporary clip: C:\\Users\\chris\\Desktop\\Senior Thesis\\Workspace\\Clip_Right_Synchronized_809c1c5f-ed62-4e65-bd23-cb17d65e58cc.mp4\n",
      "Deleted temporary clip: C:\\Users\\chris\\Desktop\\Senior Thesis\\Workspace\\Clip_Left_Synchronized_a25548b4-57c7-4c65-b94b-5ca386da7b53.mp4\n",
      "Deleted temporary clip: C:\\Users\\chris\\Desktop\\Senior Thesis\\Workspace\\Clip_Right_Synchronized_89f53800-0922-454f-8cf2-bbb844766989.mp4\n",
      "Deleted temporary clip: C:\\Users\\chris\\Desktop\\Senior Thesis\\Workspace\\Clip_Left_Synchronized_dbb27cab-483b-4077-9381-b0af0437490c.mp4\n",
      "Deleted temporary clip: C:\\Users\\chris\\Desktop\\Senior Thesis\\Workspace\\Clip_Right_Synchronized_14df98c1-995f-4a5a-97d8-1eb35e308bc6.mp4\n",
      "Deleted temporary clip: C:\\Users\\chris\\Desktop\\Senior Thesis\\Workspace\\Clip_Left_Synchronized_78d504e3-12f6-4973-b7ef-ba8754d0616d.mp4\n",
      "Deleted temporary clip: C:\\Users\\chris\\Desktop\\Senior Thesis\\Workspace\\Clip_Right_Synchronized_d44dc9f5-ef8b-4a39-b899-c3c25a5d8022.mp4\n",
      "Deleted temporary clip: C:\\Users\\chris\\Desktop\\Senior Thesis\\Workspace\\Clip_Left_Synchronized_6d699147-fba0-4981-a32a-28b5868d3085.mp4\n",
      "Deleted temporary clip: C:\\Users\\chris\\Desktop\\Senior Thesis\\Workspace\\Clip_Right_Synchronized_6ff55dcd-5803-4152-af9b-ab39d6012f56.mp4\n",
      "Deleted temporary clip: C:\\Users\\chris\\Desktop\\Senior Thesis\\Workspace\\Clip_Left_Synchronized_f5aea98f-f8fe-4a9c-8c25-724edf735a44.mp4\n",
      "Deleted temporary clip: C:\\Users\\chris\\Desktop\\Senior Thesis\\Workspace\\Clip_Right_Synchronized_3221f81f-e03a-412b-93a0-e8c0c132ba88.mp4\n",
      "Deleted temporary clip: C:\\Users\\chris\\Desktop\\Senior Thesis\\Workspace\\Clip_Left_Synchronized_693c343d-336e-4da5-abc7-2436c9778948.mp4\n",
      "--- Video Segment Assembly Completed ---\n"
     ]
    }
   ],
   "source": [
    "output_filename = \"full output.mp4\"\n",
    "# edit = load_edit(title_for_edit)\n",
    "final = assemble(edit.edit_list, fps=30, number_of_clips=35, verbose=True, output_video_filename=output_filename)"
   ]
  },
  {
   "cell_type": "code",
   "execution_count": null,
   "metadata": {},
   "outputs": [],
   "source": []
  }
 ],
 "metadata": {
  "kernelspec": {
   "display_name": "thesis_env",
   "language": "python",
   "name": "python3"
  },
  "language_info": {
   "codemirror_mode": {
    "name": "ipython",
    "version": 3
   },
   "file_extension": ".py",
   "mimetype": "text/x-python",
   "name": "python",
   "nbconvert_exporter": "python",
   "pygments_lexer": "ipython3",
   "version": "3.8.19"
  }
 },
 "nbformat": 4,
 "nbformat_minor": 2
}
