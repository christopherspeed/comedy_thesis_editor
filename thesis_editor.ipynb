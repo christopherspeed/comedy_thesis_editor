{
 "cells": [
  {
   "cell_type": "markdown",
   "metadata": {},
   "source": [
    "# Editor \n",
    "\n",
    "#### This is the editor interface for Christopher Speed '24's Senior Thesis!\n",
    "\n",
    "This notebook allows you to edit together a stand-up comedy special using several different editing paradigms (as explained below). \n",
    "\n",
    "It provides both fully automated and manual editing methods, and facilitates exporting a completed video or an Edit Decision List (EDL) for use in other software such as Adobe Premiere Pro."
   ]
  },
  {
   "cell_type": "markdown",
   "metadata": {},
   "source": [
    "### Import core libraries "
   ]
  },
  {
   "cell_type": "code",
   "execution_count": 1,
   "metadata": {},
   "outputs": [],
   "source": [
    "%load_ext autoreload\n",
    "%autoreload 2\n"
   ]
  },
  {
   "cell_type": "code",
   "execution_count": 2,
   "metadata": {},
   "outputs": [],
   "source": [
    "from processing.load import setup_editor, load_edit, load_annotations\n",
    "from editor.editor import edit_random, edit_simple, edit_complex\n",
    "from editor.video import assemble"
   ]
  },
  {
   "cell_type": "markdown",
   "metadata": {},
   "source": [
    "### Initialize State\n",
    "\n",
    "At times, Jupyter notebooks can be fragile, requiring that you restart the kernel and reinitialize any variables. Given that this project involves processing lengthy video and audio files for editing, face detection, and other tasks, reloading and re-processing videos any time a restart is required would be incredibly unwieldy and inefficient, wasting considerable amounts of time.\n",
    "\n",
    "To address this, we do the following to make our application *stateful* to minimize the negative impact of notebook restarts and errors:\n",
    "- Until specified, each of the Python cells in this introductory portion of the notebook should be run **in order, top-to-bottom**. This provides a correct sequence of initialization for our edit and annotation data. \n",
    "- Each of the edit functions (`edit_simple`, `edit_complex`, and `edit_random`) saves the resulting edit sequence object as a pickled file to disk by default, allowing you to simply reinitialize the edit by unpickling the file in the case that a restart is required or you prefer the previous version of an edit.\n",
    "\t- these functions also permit specifying a new filename for the saved edits, allowing you to save multiple distinct edit sequences  "
   ]
  },
  {
   "cell_type": "markdown",
   "metadata": {},
   "source": [
    "### Set edit session names"
   ]
  },
  {
   "cell_type": "code",
   "execution_count": 3,
   "metadata": {},
   "outputs": [],
   "source": [
    "title_for_edit = \"demo\"\n",
    "annotation_title = \"demo_annotations\"\n",
    "clip_src_directory = r\"C:\\Users\\chris\\Desktop\\Senior Thesis\\Workspace\"\n",
    "previous_edit_filename = \"demo\"\n",
    "previous_annotation_filename = \"demo_annotations\""
   ]
  },
  {
   "cell_type": "code",
   "execution_count": 4,
   "metadata": {},
   "outputs": [
    {
     "name": "stdout",
     "output_type": "stream",
     "text": [
      "Loading Prior Annotations\n",
      "Saving clip annotations to demo_annotations.pkl\n",
      "Annotation Data Loaded\n",
      "Previous Edit exists! Loading it from disk.\n",
      "Loading previous edit from demo.pkl\n",
      "Previous Edit Data Loaded\n",
      "VideoSegment(filename=MetaClipData(filename='C:\\\\Users\\\\chris\\\\Desktop\\\\Senior Thesis\\\\Workspace\\\\Clip_Left_Synchronized.mp4', normalized_detection_areas=array([0., 0., 0., ..., 0., 0., 0.]), avg_normalized_area=0.7225848894286726, clip_height=1080, clip_width=1920), start=9, end=9)\n",
      "VideoSegment(filename=MetaClipData(filename='C:\\\\Users\\\\chris\\\\Desktop\\\\Senior Thesis\\\\Workspace\\\\Clip_Right_Synchronized.mp4', normalized_detection_areas=array([0., 0., 0., ..., 0., 0., 0.]), avg_normalized_area=0.42229644248772835, clip_height=1080, clip_width=1920), start=9, end=19761)\n",
      "MetaClipData(filename='C:\\\\Users\\\\chris\\\\Desktop\\\\Senior Thesis\\\\Workspace\\\\Clip_Left_Synchronized.mp4', normalized_detection_areas=array([0., 0., 0., ..., 0., 0., 0.]), avg_normalized_area=0.7225848894286726, clip_height=1080, clip_width=1920)\n",
      "MetaClipData(filename='C:\\\\Users\\\\chris\\\\Desktop\\\\Senior Thesis\\\\Workspace\\\\Clip_Right_Synchronized.mp4', normalized_detection_areas=array([0., 0., 0., ..., 0., 0., 0.]), avg_normalized_area=0.42229644248772835, clip_height=1080, clip_width=1920)\n"
     ]
    }
   ],
   "source": [
    "edit, annotations = setup_editor(\n",
    "    new_edit_title=title_for_edit,\n",
    "    new_annotation_title=annotation_title,\n",
    "\tclips_src_dir=clip_src_directory,\n",
    " \tprevious_edit_filename=previous_edit_filename,\n",
    "  \tprevious_annotation_filename=previous_annotation_filename\n",
    ")\n",
    "for ed in edit.edit_list: print(ed)\n",
    "for ann in annotations: print(ann)"
   ]
  },
  {
   "cell_type": "markdown",
   "metadata": {},
   "source": [
    "## Simple Editor"
   ]
  },
  {
   "cell_type": "code",
   "execution_count": 5,
   "metadata": {},
   "outputs": [],
   "source": [
    "start_clip = r\"C:\\Users\\chris\\Desktop\\Senior Thesis\\Workspace\\Clip_Left_Synchronized.mp4\""
   ]
  },
  {
   "cell_type": "code",
   "execution_count": 17,
   "metadata": {},
   "outputs": [
    {
     "name": "stdout",
     "output_type": "stream",
     "text": [
      "Loading previous edit from demo.pkl\n",
      "Previous Edit Data Loaded\n",
      "Saving clip annotations to demo_annotations.pkl\n",
      "Annotation Data Loaded\n",
      "--- Beginning Edit ---\n",
      "Full Edit Sequence created\n",
      "Saving current edit to simple_edit.pkl\n",
      "Edit Data Saved\n",
      "File size of simple_edit.pkl: 1116 bytes\n",
      "35\n",
      "Output_Video.mp4\n",
      "--- Beginning Video Segment Assembly ---\n",
      "Current Segment -> file: C:\\Users\\chris\\Desktop\\Senior Thesis\\Workspace\\Clip_Left_Synchronized.mp4 start: 0 end: 0\n",
      "Temporary clip C:\\Users\\chris\\Desktop\\Senior Thesis\\Workspace\\Clip_Left_Synchronized_848167ae-88ce-4a76-bc13-54e416e25810.mp4 with duration 1 created...\n",
      "['ffmpeg', '-y', '-i', 'C:\\\\Users\\\\chris\\\\Desktop\\\\Senior Thesis\\\\Workspace\\\\Clip_Left_Synchronized.mp4', '-ss', '1', '-t', '0', '-c:v', 'libx264', '-c:a', 'aac', '-preset', 'fast', 'C:\\\\Users\\\\chris\\\\Desktop\\\\Senior Thesis\\\\Workspace\\\\Clip_Left_Synchronized_848167ae-88ce-4a76-bc13-54e416e25810.mp4']\n",
      "Current Segment -> file: C:\\Users\\chris\\Desktop\\Senior Thesis\\Workspace\\Clip_Right_Synchronized.mp4 start: 0 end: 23\n",
      "Temporary clip C:\\Users\\chris\\Desktop\\Senior Thesis\\Workspace\\Clip_Right_Synchronized_9350d5f3-a3e3-4cbc-95c3-eaffad730b09.mp4 with duration 24 created...\n",
      "['ffmpeg', '-y', '-i', 'C:\\\\Users\\\\chris\\\\Desktop\\\\Senior Thesis\\\\Workspace\\\\Clip_Right_Synchronized.mp4', '-ss', '1', '-t', '23', '-c:v', 'libx264', '-c:a', 'aac', '-preset', 'fast', 'C:\\\\Users\\\\chris\\\\Desktop\\\\Senior Thesis\\\\Workspace\\\\Clip_Right_Synchronized_9350d5f3-a3e3-4cbc-95c3-eaffad730b09.mp4']\n",
      "Current Segment -> file: C:\\Users\\chris\\Desktop\\Senior Thesis\\Workspace\\Clip_Left_Synchronized.mp4 start: 23 end: 39\n",
      "Temporary clip C:\\Users\\chris\\Desktop\\Senior Thesis\\Workspace\\Clip_Left_Synchronized_06f08a34-566c-4400-a9a4-8d965b5d4e6c.mp4 with duration 17 created...\n",
      "['ffmpeg', '-y', '-i', 'C:\\\\Users\\\\chris\\\\Desktop\\\\Senior Thesis\\\\Workspace\\\\Clip_Left_Synchronized.mp4', '-ss', '24', '-t', '16', '-c:v', 'libx264', '-c:a', 'aac', '-preset', 'fast', 'C:\\\\Users\\\\chris\\\\Desktop\\\\Senior Thesis\\\\Workspace\\\\Clip_Left_Synchronized_06f08a34-566c-4400-a9a4-8d965b5d4e6c.mp4']\n",
      "Current Segment -> file: C:\\Users\\chris\\Desktop\\Senior Thesis\\Workspace\\Clip_Right_Synchronized.mp4 start: 39 end: 58\n",
      "Temporary clip C:\\Users\\chris\\Desktop\\Senior Thesis\\Workspace\\Clip_Right_Synchronized_c11b5720-143f-4c21-b574-2772013946b8.mp4 with duration 20 created...\n",
      "['ffmpeg', '-y', '-i', 'C:\\\\Users\\\\chris\\\\Desktop\\\\Senior Thesis\\\\Workspace\\\\Clip_Right_Synchronized.mp4', '-ss', '40', '-t', '19', '-c:v', 'libx264', '-c:a', 'aac', '-preset', 'fast', 'C:\\\\Users\\\\chris\\\\Desktop\\\\Senior Thesis\\\\Workspace\\\\Clip_Right_Synchronized_c11b5720-143f-4c21-b574-2772013946b8.mp4']\n",
      "Current Segment -> file: C:\\Users\\chris\\Desktop\\Senior Thesis\\Workspace\\Clip_Left_Synchronized.mp4 start: 58 end: 77\n",
      "Temporary clip C:\\Users\\chris\\Desktop\\Senior Thesis\\Workspace\\Clip_Left_Synchronized_bdbc8515-dff1-4a84-92a8-7a72b1ac5719.mp4 with duration 20 created...\n",
      "['ffmpeg', '-y', '-i', 'C:\\\\Users\\\\chris\\\\Desktop\\\\Senior Thesis\\\\Workspace\\\\Clip_Left_Synchronized.mp4', '-ss', '59', '-t', '19', '-c:v', 'libx264', '-c:a', 'aac', '-preset', 'fast', 'C:\\\\Users\\\\chris\\\\Desktop\\\\Senior Thesis\\\\Workspace\\\\Clip_Left_Synchronized_bdbc8515-dff1-4a84-92a8-7a72b1ac5719.mp4']\n",
      "Early exiting with 5 clips processed\n",
      "Temporary List File:  C:\\Users\\chris\\AppData\\Local\\Temp\\tmpjjfielut\\input.txt\n",
      "About to attempt concatenation...\n",
      "Deleted temporary clip: C:\\Users\\chris\\Desktop\\Senior Thesis\\Workspace\\Clip_Left_Synchronized_848167ae-88ce-4a76-bc13-54e416e25810.mp4\n",
      "Deleted temporary clip: C:\\Users\\chris\\Desktop\\Senior Thesis\\Workspace\\Clip_Right_Synchronized_9350d5f3-a3e3-4cbc-95c3-eaffad730b09.mp4\n",
      "Deleted temporary clip: C:\\Users\\chris\\Desktop\\Senior Thesis\\Workspace\\Clip_Left_Synchronized_06f08a34-566c-4400-a9a4-8d965b5d4e6c.mp4\n",
      "Deleted temporary clip: C:\\Users\\chris\\Desktop\\Senior Thesis\\Workspace\\Clip_Right_Synchronized_c11b5720-143f-4c21-b574-2772013946b8.mp4\n",
      "Deleted temporary clip: C:\\Users\\chris\\Desktop\\Senior Thesis\\Workspace\\Clip_Left_Synchronized_bdbc8515-dff1-4a84-92a8-7a72b1ac5719.mp4\n",
      "--- Video Segment Assembly Completed ---\n"
     ]
    }
   ],
   "source": [
    "current_edit = load_edit(title_for_edit)\n",
    "annotations = load_annotations(annotation_title)\n",
    "new_edit = edit_simple(\n",
    "    current_edit=current_edit,\n",
    "    clips_and_annotations=annotations,\n",
    "    starting_clip=annotations[0],\n",
    "    threshold_frames=5,\n",
    "    cut_frequency_threshold_frames=480,\n",
    "    edit_start_time=0,\n",
    "    strictness_amt=0,\n",
    "    should_save=True\n",
    ")\n",
    "\n",
    "print(len(new_edit.edit_list))\n",
    "\n",
    "output_file = assemble(new_edit.edit_list, number_of_clips=5, frame_rate=30, verbose=True)"
   ]
  },
  {
   "cell_type": "code",
   "execution_count": 15,
   "metadata": {},
   "outputs": [
    {
     "name": "stdout",
     "output_type": "stream",
     "text": [
      "[VideoSegment(filename='C:\\\\Users\\\\chris\\\\Desktop\\\\Senior Thesis\\\\Workspace\\\\Clip_Left_Synchronized.mp4', start=0, end=3), VideoSegment(filename='C:\\\\Users\\\\chris\\\\Desktop\\\\Senior Thesis\\\\Workspace\\\\Clip_Right_Synchronized.mp4', start=4, end=699), VideoSegment(filename='C:\\\\Users\\\\chris\\\\Desktop\\\\Senior Thesis\\\\Workspace\\\\Clip_Left_Synchronized.mp4', start=700, end=1183), VideoSegment(filename='C:\\\\Users\\\\chris\\\\Desktop\\\\Senior Thesis\\\\Workspace\\\\Clip_Right_Synchronized.mp4', start=1184, end=1753), VideoSegment(filename='C:\\\\Users\\\\chris\\\\Desktop\\\\Senior Thesis\\\\Workspace\\\\Clip_Left_Synchronized.mp4', start=1754, end=2313), VideoSegment(filename='C:\\\\Users\\\\chris\\\\Desktop\\\\Senior Thesis\\\\Workspace\\\\Clip_Right_Synchronized.mp4', start=2314, end=2852), VideoSegment(filename='C:\\\\Users\\\\chris\\\\Desktop\\\\Senior Thesis\\\\Workspace\\\\Clip_Left_Synchronized.mp4', start=2853, end=3388), VideoSegment(filename='C:\\\\Users\\\\chris\\\\Desktop\\\\Senior Thesis\\\\Workspace\\\\Clip_Right_Synchronized.mp4', start=3389, end=4094), VideoSegment(filename='C:\\\\Users\\\\chris\\\\Desktop\\\\Senior Thesis\\\\Workspace\\\\Clip_Left_Synchronized.mp4', start=4095, end=4880), VideoSegment(filename='C:\\\\Users\\\\chris\\\\Desktop\\\\Senior Thesis\\\\Workspace\\\\Clip_Right_Synchronized.mp4', start=4881, end=5462), VideoSegment(filename='C:\\\\Users\\\\chris\\\\Desktop\\\\Senior Thesis\\\\Workspace\\\\Clip_Left_Synchronized.mp4', start=5463, end=6027), VideoSegment(filename='C:\\\\Users\\\\chris\\\\Desktop\\\\Senior Thesis\\\\Workspace\\\\Clip_Right_Synchronized.mp4', start=6028, end=6518), VideoSegment(filename='C:\\\\Users\\\\chris\\\\Desktop\\\\Senior Thesis\\\\Workspace\\\\Clip_Left_Synchronized.mp4', start=6519, end=7098), VideoSegment(filename='C:\\\\Users\\\\chris\\\\Desktop\\\\Senior Thesis\\\\Workspace\\\\Clip_Right_Synchronized.mp4', start=7099, end=7600), VideoSegment(filename='C:\\\\Users\\\\chris\\\\Desktop\\\\Senior Thesis\\\\Workspace\\\\Clip_Left_Synchronized.mp4', start=7601, end=8158), VideoSegment(filename='C:\\\\Users\\\\chris\\\\Desktop\\\\Senior Thesis\\\\Workspace\\\\Clip_Right_Synchronized.mp4', start=8159, end=8643), VideoSegment(filename='C:\\\\Users\\\\chris\\\\Desktop\\\\Senior Thesis\\\\Workspace\\\\Clip_Left_Synchronized.mp4', start=8644, end=9153), VideoSegment(filename='C:\\\\Users\\\\chris\\\\Desktop\\\\Senior Thesis\\\\Workspace\\\\Clip_Right_Synchronized.mp4', start=9154, end=9647), VideoSegment(filename='C:\\\\Users\\\\chris\\\\Desktop\\\\Senior Thesis\\\\Workspace\\\\Clip_Left_Synchronized.mp4', start=9648, end=10278), VideoSegment(filename='C:\\\\Users\\\\chris\\\\Desktop\\\\Senior Thesis\\\\Workspace\\\\Clip_Right_Synchronized.mp4', start=10279, end=10952), VideoSegment(filename='C:\\\\Users\\\\chris\\\\Desktop\\\\Senior Thesis\\\\Workspace\\\\Clip_Left_Synchronized.mp4', start=10953, end=11489), VideoSegment(filename='C:\\\\Users\\\\chris\\\\Desktop\\\\Senior Thesis\\\\Workspace\\\\Clip_Right_Synchronized.mp4', start=11490, end=12037), VideoSegment(filename='C:\\\\Users\\\\chris\\\\Desktop\\\\Senior Thesis\\\\Workspace\\\\Clip_Left_Synchronized.mp4', start=12038, end=12755), VideoSegment(filename='C:\\\\Users\\\\chris\\\\Desktop\\\\Senior Thesis\\\\Workspace\\\\Clip_Right_Synchronized.mp4', start=12756, end=13281), VideoSegment(filename='C:\\\\Users\\\\chris\\\\Desktop\\\\Senior Thesis\\\\Workspace\\\\Clip_Left_Synchronized.mp4', start=13282, end=13855), VideoSegment(filename='C:\\\\Users\\\\chris\\\\Desktop\\\\Senior Thesis\\\\Workspace\\\\Clip_Right_Synchronized.mp4', start=13856, end=14338), VideoSegment(filename='C:\\\\Users\\\\chris\\\\Desktop\\\\Senior Thesis\\\\Workspace\\\\Clip_Left_Synchronized.mp4', start=14339, end=14849), VideoSegment(filename='C:\\\\Users\\\\chris\\\\Desktop\\\\Senior Thesis\\\\Workspace\\\\Clip_Right_Synchronized.mp4', start=14850, end=15366), VideoSegment(filename='C:\\\\Users\\\\chris\\\\Desktop\\\\Senior Thesis\\\\Workspace\\\\Clip_Left_Synchronized.mp4', start=15367, end=16043), VideoSegment(filename='C:\\\\Users\\\\chris\\\\Desktop\\\\Senior Thesis\\\\Workspace\\\\Clip_Right_Synchronized.mp4', start=16044, end=16544), VideoSegment(filename='C:\\\\Users\\\\chris\\\\Desktop\\\\Senior Thesis\\\\Workspace\\\\Clip_Left_Synchronized.mp4', start=16545, end=17255), VideoSegment(filename='C:\\\\Users\\\\chris\\\\Desktop\\\\Senior Thesis\\\\Workspace\\\\Clip_Right_Synchronized.mp4', start=17256, end=18033), VideoSegment(filename='C:\\\\Users\\\\chris\\\\Desktop\\\\Senior Thesis\\\\Workspace\\\\Clip_Left_Synchronized.mp4', start=18034, end=18731), VideoSegment(filename='C:\\\\Users\\\\chris\\\\Desktop\\\\Senior Thesis\\\\Workspace\\\\Clip_Right_Synchronized.mp4', start=18732, end=19268), VideoSegment(filename='C:\\\\Users\\\\chris\\\\Desktop\\\\Senior Thesis\\\\Workspace\\\\Clip_Left_Synchronized.mp4', start=19269, end=19761)]\n",
      "Output_Video.mp4\n"
     ]
    }
   ],
   "source": [
    "print(new_edit.edit_list)\n",
    "print(output_file)"
   ]
  },
  {
   "cell_type": "markdown",
   "metadata": {},
   "source": [
    "## Random Editor"
   ]
  },
  {
   "cell_type": "code",
   "execution_count": 12,
   "metadata": {},
   "outputs": [
    {
     "name": "stdout",
     "output_type": "stream",
     "text": [
      "Loading previous edit from demo.pkl\n",
      "Previous Edit Data Loaded\n",
      "Saving clip annotations to demo_annotations.pkl\n",
      "Annotation Data Loaded\n",
      "Saving current edit to simple_edit.pkl\n",
      "Edit Data Saved\n",
      "File size of simple_edit.pkl: 734 bytes\n",
      "Temporary clip name C:\\Users\\chris\\Desktop\\Senior Thesis\\Workspace\\Clip_Right_Synchronized_86c66ca6-f78c-447d-b3c7-10bbab14597e.mp4\n"
     ]
    },
    {
     "ename": "KeyboardInterrupt",
     "evalue": "",
     "output_type": "error",
     "traceback": [
      "\u001b[1;31m---------------------------------------------------------------------------\u001b[0m",
      "\u001b[1;31mKeyboardInterrupt\u001b[0m                         Traceback (most recent call last)",
      "Cell \u001b[1;32mIn[12], line 12\u001b[0m\n\u001b[0;32m      3\u001b[0m new_edit \u001b[38;5;241m=\u001b[39m edit_random(\n\u001b[0;32m      4\u001b[0m     current_edit\u001b[38;5;241m=\u001b[39mcurrent_edit,\n\u001b[0;32m      5\u001b[0m     clips_and_annotations\u001b[38;5;241m=\u001b[39mannotations,\n\u001b[0;32m      6\u001b[0m     num_cuts\u001b[38;5;241m=\u001b[39m\u001b[38;5;241m20\u001b[39m,\n\u001b[0;32m      7\u001b[0m     should_save\u001b[38;5;241m=\u001b[39m\u001b[38;5;28;01mTrue\u001b[39;00m\n\u001b[0;32m      8\u001b[0m )\n\u001b[0;32m     10\u001b[0m \u001b[38;5;66;03m# for e in new_edit.edit_list:\u001b[39;00m\n\u001b[0;32m     11\u001b[0m \u001b[38;5;66;03m#     print(e)\u001b[39;00m\n\u001b[1;32m---> 12\u001b[0m \u001b[43massemble\u001b[49m\u001b[43m(\u001b[49m\u001b[43mnew_edit\u001b[49m\u001b[38;5;241;43m.\u001b[39;49m\u001b[43medit_list\u001b[49m\u001b[43m,\u001b[49m\u001b[43m \u001b[49m\u001b[43mduration\u001b[49m\u001b[38;5;241;43m=\u001b[39;49m\u001b[43mnew_edit\u001b[49m\u001b[38;5;241;43m.\u001b[39;49m\u001b[43mduration\u001b[49m\u001b[43m)\u001b[49m\n",
      "File \u001b[1;32mc:\\Users\\chris\\Desktop\\Senior Thesis\\editor\\video.py:55\u001b[0m, in \u001b[0;36massemble\u001b[1;34m(clips, duration, output_video_filename)\u001b[0m\n\u001b[0;32m     39\u001b[0m     \u001b[38;5;28;01melse\u001b[39;00m:\n\u001b[0;32m     40\u001b[0m         extract_command \u001b[38;5;241m=\u001b[39m [\n\u001b[0;32m     41\u001b[0m             \u001b[38;5;124m'\u001b[39m\u001b[38;5;124mffmpeg\u001b[39m\u001b[38;5;124m'\u001b[39m, \n\u001b[0;32m     42\u001b[0m             \u001b[38;5;124m'\u001b[39m\u001b[38;5;124m-y\u001b[39m\u001b[38;5;124m'\u001b[39m, \n\u001b[1;32m   (...)\u001b[0m\n\u001b[0;32m     53\u001b[0m             temp_clip\n\u001b[0;32m     54\u001b[0m         ]\n\u001b[1;32m---> 55\u001b[0m     \u001b[43msubprocess\u001b[49m\u001b[38;5;241;43m.\u001b[39;49m\u001b[43mrun\u001b[49m\u001b[43m(\u001b[49m\u001b[43mextract_command\u001b[49m\u001b[43m,\u001b[49m\u001b[43m \u001b[49m\u001b[43mstdout\u001b[49m\u001b[38;5;241;43m=\u001b[39;49m\u001b[43msubprocess\u001b[49m\u001b[38;5;241;43m.\u001b[39;49m\u001b[43mPIPE\u001b[49m\u001b[43m,\u001b[49m\u001b[43m \u001b[49m\u001b[43mstderr\u001b[49m\u001b[38;5;241;43m=\u001b[39;49m\u001b[43msubprocess\u001b[49m\u001b[38;5;241;43m.\u001b[39;49m\u001b[43mPIPE\u001b[49m\u001b[43m)\u001b[49m\n\u001b[0;32m     56\u001b[0m     temp_clips\u001b[38;5;241m.\u001b[39mappend(temp_clip)\n\u001b[0;32m     57\u001b[0m temp_list_file \u001b[38;5;241m=\u001b[39m os\u001b[38;5;241m.\u001b[39mpath\u001b[38;5;241m.\u001b[39mjoin(temp_dir, \u001b[38;5;124m'\u001b[39m\u001b[38;5;124minput.txt\u001b[39m\u001b[38;5;124m'\u001b[39m)\n",
      "File \u001b[1;32mc:\\Users\\chris\\anaconda3\\envs\\thesis_env\\lib\\subprocess.py:495\u001b[0m, in \u001b[0;36mrun\u001b[1;34m(input, capture_output, timeout, check, *popenargs, **kwargs)\u001b[0m\n\u001b[0;32m    493\u001b[0m \u001b[38;5;28;01mwith\u001b[39;00m Popen(\u001b[38;5;241m*\u001b[39mpopenargs, \u001b[38;5;241m*\u001b[39m\u001b[38;5;241m*\u001b[39mkwargs) \u001b[38;5;28;01mas\u001b[39;00m process:\n\u001b[0;32m    494\u001b[0m     \u001b[38;5;28;01mtry\u001b[39;00m:\n\u001b[1;32m--> 495\u001b[0m         stdout, stderr \u001b[38;5;241m=\u001b[39m \u001b[43mprocess\u001b[49m\u001b[38;5;241;43m.\u001b[39;49m\u001b[43mcommunicate\u001b[49m\u001b[43m(\u001b[49m\u001b[38;5;28;43minput\u001b[39;49m\u001b[43m,\u001b[49m\u001b[43m \u001b[49m\u001b[43mtimeout\u001b[49m\u001b[38;5;241;43m=\u001b[39;49m\u001b[43mtimeout\u001b[49m\u001b[43m)\u001b[49m\n\u001b[0;32m    496\u001b[0m     \u001b[38;5;28;01mexcept\u001b[39;00m TimeoutExpired \u001b[38;5;28;01mas\u001b[39;00m exc:\n\u001b[0;32m    497\u001b[0m         process\u001b[38;5;241m.\u001b[39mkill()\n",
      "File \u001b[1;32mc:\\Users\\chris\\anaconda3\\envs\\thesis_env\\lib\\subprocess.py:1028\u001b[0m, in \u001b[0;36mPopen.communicate\u001b[1;34m(self, input, timeout)\u001b[0m\n\u001b[0;32m   1025\u001b[0m     endtime \u001b[38;5;241m=\u001b[39m \u001b[38;5;28;01mNone\u001b[39;00m\n\u001b[0;32m   1027\u001b[0m \u001b[38;5;28;01mtry\u001b[39;00m:\n\u001b[1;32m-> 1028\u001b[0m     stdout, stderr \u001b[38;5;241m=\u001b[39m \u001b[38;5;28;43mself\u001b[39;49m\u001b[38;5;241;43m.\u001b[39;49m\u001b[43m_communicate\u001b[49m\u001b[43m(\u001b[49m\u001b[38;5;28;43minput\u001b[39;49m\u001b[43m,\u001b[49m\u001b[43m \u001b[49m\u001b[43mendtime\u001b[49m\u001b[43m,\u001b[49m\u001b[43m \u001b[49m\u001b[43mtimeout\u001b[49m\u001b[43m)\u001b[49m\n\u001b[0;32m   1029\u001b[0m \u001b[38;5;28;01mexcept\u001b[39;00m \u001b[38;5;167;01mKeyboardInterrupt\u001b[39;00m:\n\u001b[0;32m   1030\u001b[0m     \u001b[38;5;66;03m# https://bugs.python.org/issue25942\u001b[39;00m\n\u001b[0;32m   1031\u001b[0m     \u001b[38;5;66;03m# See the detailed comment in .wait().\u001b[39;00m\n\u001b[0;32m   1032\u001b[0m     \u001b[38;5;28;01mif\u001b[39;00m timeout \u001b[38;5;129;01mis\u001b[39;00m \u001b[38;5;129;01mnot\u001b[39;00m \u001b[38;5;28;01mNone\u001b[39;00m:\n",
      "File \u001b[1;32mc:\\Users\\chris\\anaconda3\\envs\\thesis_env\\lib\\subprocess.py:1415\u001b[0m, in \u001b[0;36mPopen._communicate\u001b[1;34m(self, input, endtime, orig_timeout)\u001b[0m\n\u001b[0;32m   1411\u001b[0m \u001b[38;5;66;03m# Wait for the reader threads, or time out.  If we time out, the\u001b[39;00m\n\u001b[0;32m   1412\u001b[0m \u001b[38;5;66;03m# threads remain reading and the fds left open in case the user\u001b[39;00m\n\u001b[0;32m   1413\u001b[0m \u001b[38;5;66;03m# calls communicate again.\u001b[39;00m\n\u001b[0;32m   1414\u001b[0m \u001b[38;5;28;01mif\u001b[39;00m \u001b[38;5;28mself\u001b[39m\u001b[38;5;241m.\u001b[39mstdout \u001b[38;5;129;01mis\u001b[39;00m \u001b[38;5;129;01mnot\u001b[39;00m \u001b[38;5;28;01mNone\u001b[39;00m:\n\u001b[1;32m-> 1415\u001b[0m     \u001b[38;5;28;43mself\u001b[39;49m\u001b[38;5;241;43m.\u001b[39;49m\u001b[43mstdout_thread\u001b[49m\u001b[38;5;241;43m.\u001b[39;49m\u001b[43mjoin\u001b[49m\u001b[43m(\u001b[49m\u001b[38;5;28;43mself\u001b[39;49m\u001b[38;5;241;43m.\u001b[39;49m\u001b[43m_remaining_time\u001b[49m\u001b[43m(\u001b[49m\u001b[43mendtime\u001b[49m\u001b[43m)\u001b[49m\u001b[43m)\u001b[49m\n\u001b[0;32m   1416\u001b[0m     \u001b[38;5;28;01mif\u001b[39;00m \u001b[38;5;28mself\u001b[39m\u001b[38;5;241m.\u001b[39mstdout_thread\u001b[38;5;241m.\u001b[39mis_alive():\n\u001b[0;32m   1417\u001b[0m         \u001b[38;5;28;01mraise\u001b[39;00m TimeoutExpired(\u001b[38;5;28mself\u001b[39m\u001b[38;5;241m.\u001b[39margs, orig_timeout)\n",
      "File \u001b[1;32mc:\\Users\\chris\\anaconda3\\envs\\thesis_env\\lib\\threading.py:1011\u001b[0m, in \u001b[0;36mThread.join\u001b[1;34m(self, timeout)\u001b[0m\n\u001b[0;32m   1008\u001b[0m     \u001b[38;5;28;01mraise\u001b[39;00m \u001b[38;5;167;01mRuntimeError\u001b[39;00m(\u001b[38;5;124m\"\u001b[39m\u001b[38;5;124mcannot join current thread\u001b[39m\u001b[38;5;124m\"\u001b[39m)\n\u001b[0;32m   1010\u001b[0m \u001b[38;5;28;01mif\u001b[39;00m timeout \u001b[38;5;129;01mis\u001b[39;00m \u001b[38;5;28;01mNone\u001b[39;00m:\n\u001b[1;32m-> 1011\u001b[0m     \u001b[38;5;28;43mself\u001b[39;49m\u001b[38;5;241;43m.\u001b[39;49m\u001b[43m_wait_for_tstate_lock\u001b[49m\u001b[43m(\u001b[49m\u001b[43m)\u001b[49m\n\u001b[0;32m   1012\u001b[0m \u001b[38;5;28;01melse\u001b[39;00m:\n\u001b[0;32m   1013\u001b[0m     \u001b[38;5;66;03m# the behavior of a negative timeout isn't documented, but\u001b[39;00m\n\u001b[0;32m   1014\u001b[0m     \u001b[38;5;66;03m# historically .join(timeout=x) for x<0 has acted as if timeout=0\u001b[39;00m\n\u001b[0;32m   1015\u001b[0m     \u001b[38;5;28mself\u001b[39m\u001b[38;5;241m.\u001b[39m_wait_for_tstate_lock(timeout\u001b[38;5;241m=\u001b[39m\u001b[38;5;28mmax\u001b[39m(timeout, \u001b[38;5;241m0\u001b[39m))\n",
      "File \u001b[1;32mc:\\Users\\chris\\anaconda3\\envs\\thesis_env\\lib\\threading.py:1027\u001b[0m, in \u001b[0;36mThread._wait_for_tstate_lock\u001b[1;34m(self, block, timeout)\u001b[0m\n\u001b[0;32m   1025\u001b[0m \u001b[38;5;28;01mif\u001b[39;00m lock \u001b[38;5;129;01mis\u001b[39;00m \u001b[38;5;28;01mNone\u001b[39;00m:  \u001b[38;5;66;03m# already determined that the C code is done\u001b[39;00m\n\u001b[0;32m   1026\u001b[0m     \u001b[38;5;28;01massert\u001b[39;00m \u001b[38;5;28mself\u001b[39m\u001b[38;5;241m.\u001b[39m_is_stopped\n\u001b[1;32m-> 1027\u001b[0m \u001b[38;5;28;01melif\u001b[39;00m \u001b[43mlock\u001b[49m\u001b[38;5;241;43m.\u001b[39;49m\u001b[43macquire\u001b[49m\u001b[43m(\u001b[49m\u001b[43mblock\u001b[49m\u001b[43m,\u001b[49m\u001b[43m \u001b[49m\u001b[43mtimeout\u001b[49m\u001b[43m)\u001b[49m:\n\u001b[0;32m   1028\u001b[0m     lock\u001b[38;5;241m.\u001b[39mrelease()\n\u001b[0;32m   1029\u001b[0m     \u001b[38;5;28mself\u001b[39m\u001b[38;5;241m.\u001b[39m_stop()\n",
      "\u001b[1;31mKeyboardInterrupt\u001b[0m: "
     ]
    }
   ],
   "source": [
    "current_edit = load_edit(title_for_edit)\n",
    "annotations = load_annotations(annotation_title)\n",
    "new_edit = edit_random(\n",
    "    current_edit=current_edit,\n",
    "    clips_and_annotations=annotations,\n",
    "    num_cuts=20,\n",
    "    should_save=True\n",
    ")\n",
    "\n",
    "# for e in new_edit.edit_list:\n",
    "#     print(e)\n",
    "assemble(new_edit.edit_list, duration=new_edit.duration)"
   ]
  },
  {
   "cell_type": "code",
   "execution_count": null,
   "metadata": {},
   "outputs": [],
   "source": []
  },
  {
   "cell_type": "code",
   "execution_count": 35,
   "metadata": {},
   "outputs": [
    {
     "name": "stdout",
     "output_type": "stream",
     "text": [
      "[]\n"
     ]
    }
   ],
   "source": [
    "print(edit.edit_list)"
   ]
  },
  {
   "cell_type": "markdown",
   "metadata": {},
   "source": [
    "# Assemble Edit into Output Video"
   ]
  },
  {
   "cell_type": "code",
   "execution_count": 34,
   "metadata": {},
   "outputs": [
    {
     "name": "stdout",
     "output_type": "stream",
     "text": [
      "['ffmpeg', '-y', '-f', 'concat', '-safe', '0', '-i', 'C:\\\\Users\\\\chris\\\\AppData\\\\Local\\\\Temp\\\\tmpkc17g07m\\\\input.txt', '-c:v', 'libx264', '-c:a', 'aac', '-preset', 'fast', 'Output_Video.mp4']\n"
     ]
    }
   ],
   "source": [
    "output_filename = \"Output_Video.mp4\"\n",
    "final = assemble(edit.edit_list, output_filename)"
   ]
  },
  {
   "cell_type": "code",
   "execution_count": null,
   "metadata": {},
   "outputs": [],
   "source": []
  }
 ],
 "metadata": {
  "kernelspec": {
   "display_name": "thesis_env",
   "language": "python",
   "name": "python3"
  },
  "language_info": {
   "codemirror_mode": {
    "name": "ipython",
    "version": 3
   },
   "file_extension": ".py",
   "mimetype": "text/x-python",
   "name": "python",
   "nbconvert_exporter": "python",
   "pygments_lexer": "ipython3",
   "version": "3.8.19"
  }
 },
 "nbformat": 4,
 "nbformat_minor": 2
}
