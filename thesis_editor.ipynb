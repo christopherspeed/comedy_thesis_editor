{
 "cells": [
  {
   "cell_type": "markdown",
   "metadata": {},
   "source": [
    "# Editor \n",
    "\n",
    "#### This is the editor interface for Christopher Speed '24's Senior Thesis!\n",
    "\n",
    "This notebook allows you to edit together a stand-up comedy special using several different editing paradigms (as explained below). \n",
    "\n",
    "It provides both fully automated and manual editing methods, and facilitates exporting a completed video or an Edit Decision List (EDL) for use in other software such as Adobe Premiere Pro."
   ]
  },
  {
   "cell_type": "markdown",
   "metadata": {},
   "source": [
    "### Import core libraries "
   ]
  },
  {
   "cell_type": "code",
   "execution_count": 5,
   "metadata": {},
   "outputs": [
    {
     "name": "stdout",
     "output_type": "stream",
     "text": [
      "The autoreload extension is already loaded. To reload it, use:\n",
      "  %reload_ext autoreload\n"
     ]
    }
   ],
   "source": [
    "%load_ext autoreload\n",
    "%autoreload 2\n",
    "\n",
    "from IPython.display import display\n",
    "import ipywidgets as widgets"
   ]
  },
  {
   "cell_type": "code",
   "execution_count": 2,
   "metadata": {},
   "outputs": [],
   "source": [
    "from processing.load import setup_editor, load_edit, load_annotations\n",
    "from editor.editor import edit_random, edit_simple, edit_complex\n",
    "from editor.video import assemble"
   ]
  },
  {
   "cell_type": "markdown",
   "metadata": {},
   "source": [
    "### Initialize State\n",
    "\n",
    "At times, Jupyter notebooks can be fragile, requiring that you restart the kernel and reinitialize any variables. Given that this project involves processing lengthy video and audio files for editing, face detection, and other tasks, reloading and re-processing videos any time a restart is required would be incredibly unwieldy and inefficient, wasting considerable amounts of time.\n",
    "\n",
    "To address this, we do the following to make our application *stateful* to minimize the negative impact of notebook restarts and errors:\n",
    "- Until specified, each of the Python cells in this introductory portion of the notebook should be run **in order, top-to-bottom**. This provides a correct sequence of initialization for our edit and annotation data. \n",
    "- Each of the edit functions (`edit_simple`, `edit_complex`, and `edit_random`) saves the resulting edit sequence object as a pickled file to disk by default, allowing you to simply reinitialize the edit by unpickling the file in the case that a restart is required or you prefer the previous version of an edit.\n",
    "\t- these functions also permit specifying a new filename for the saved edits, allowing you to save multiple distinct edit sequences  "
   ]
  },
  {
   "cell_type": "code",
   "execution_count": 20,
   "metadata": {},
   "outputs": [
    {
     "data": {
      "application/vnd.jupyter.widget-view+json": {
       "model_id": "0f8b733e52404f80994807c23ace31ad",
       "version_major": 2,
       "version_minor": 0
      },
      "text/plain": [
       "Text(value='', description='Text:', placeholder='Edit Title')"
      ]
     },
     "metadata": {},
     "output_type": "display_data"
    },
    {
     "data": {
      "application/vnd.jupyter.widget-view+json": {
       "model_id": "f94f8461a6e44b9bb8022ecfa7450f2a",
       "version_major": 2,
       "version_minor": 0
      },
      "text/plain": [
       "Text(value='', description='Annotations Filename to Save To:', placeholder='...')"
      ]
     },
     "metadata": {},
     "output_type": "display_data"
    }
   ],
   "source": [
    "# Create a text input widget\n",
    "edit_name_input = widgets.Text(\n",
    "    value='',  # Default value\n",
    "    placeholder='Edit Title',  # Placeholder text\n",
    "    description='Text:',  # Label for the input box\n",
    "    disabled=False  # Whether the input is disabled or not\n",
    ")\n",
    "annotations_name_input = widgets.Text(\n",
    "    value='',  # Default value\n",
    "    placeholder='...',  # Placeholder text\n",
    "    description='Annotations Filename to Save To:',  # Label for the input box\n",
    "    disabled=False  # Whether the input is disabled or not\n",
    ")\n",
    "display(edit_name_input)\n",
    "display(annotations_name_input)\n"
   ]
  },
  {
   "cell_type": "code",
   "execution_count": 22,
   "metadata": {},
   "outputs": [
    {
     "name": "stdout",
     "output_type": "stream",
     "text": [
      "Video Annotations\n"
     ]
    }
   ],
   "source": [
    "edit_name = edit_name_input.value\n",
    "annotations_name = annotations_name_input.value\n",
    "print(edit_name, annotations_name)\n",
    "# edit, annotations = setup_editor(edit_name)"
   ]
  },
  {
   "cell_type": "code",
   "execution_count": null,
   "metadata": {},
   "outputs": [],
   "source": [
    "edit = load_edit()"
   ]
  },
  {
   "cell_type": "markdown",
   "metadata": {},
   "source": [
    "## Simple Editor"
   ]
  },
  {
   "cell_type": "code",
   "execution_count": null,
   "metadata": {},
   "outputs": [],
   "source": [
    "current_edit = load_edit(edit_name)\n",
    "annotations = load_annotations(annotations_name)\n",
    "new_edit = edit_simple(\n",
    "    current_edit,\n",
    "    annotations,\n",
    "    \n",
    "    )"
   ]
  }
 ],
 "metadata": {
  "kernelspec": {
   "display_name": "thesis_env",
   "language": "python",
   "name": "python3"
  },
  "language_info": {
   "codemirror_mode": {
    "name": "ipython",
    "version": 3
   },
   "file_extension": ".py",
   "mimetype": "text/x-python",
   "name": "python",
   "nbconvert_exporter": "python",
   "pygments_lexer": "ipython3",
   "version": "3.8.19"
  }
 },
 "nbformat": 4,
 "nbformat_minor": 2
}
