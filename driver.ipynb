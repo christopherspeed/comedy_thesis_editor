{
 "cells": [
  {
   "cell_type": "markdown",
   "metadata": {},
   "source": [
    "# Primary Editing Interface Notebook - testing "
   ]
  },
  {
   "cell_type": "code",
   "execution_count": 5,
   "metadata": {},
   "outputs": [],
   "source": [
    "%load_ext autoreload\n",
    "%autoreload 2\n"
   ]
  },
  {
   "cell_type": "code",
   "execution_count": 2,
   "metadata": {},
   "outputs": [],
   "source": [
    "import numpy as np\n",
    "np.set_printoptions(threshold=20)"
   ]
  },
  {
   "cell_type": "code",
   "execution_count": 5,
   "metadata": {},
   "outputs": [],
   "source": [
    "output_dir = 'laughter_detection_output' #@param {type:\"string\"}"
   ]
  },
  {
   "cell_type": "code",
   "execution_count": 4,
   "metadata": {},
   "outputs": [
    {
     "name": "stdout",
     "output_type": "stream",
     "text": [
      "Edit Data Saved\n"
     ]
    }
   ],
   "source": [
    "from processing.load import save_current_edit, load_previous_edit\n",
    "\n",
    "save_current_edit([{\"name\": \"Christopher\"}, {\"clip_title\": \"ViewShot1NoAudio.mp4\"}], \"new_edit.json\")\n"
   ]
  },
  {
   "cell_type": "code",
   "execution_count": 6,
   "metadata": {},
   "outputs": [
    {
     "name": "stdout",
     "output_type": "stream",
     "text": [
      "Previous Edit Data Loaded\n",
      "[{'name': 'Christopher'}, {'clip_title': 'ViewShot1NoAudio.mp4'}]\n"
     ]
    }
   ],
   "source": [
    "past_edit = load_previous_edit(\"new_edit.json\")\n",
    "print(past_edit)"
   ]
  },
  {
   "cell_type": "code",
   "execution_count": 23,
   "metadata": {},
   "outputs": [
    {
     "name": "stdout",
     "output_type": "stream",
     "text": [
      "[{'filename': 'C:\\\\Users\\\\chris\\\\Desktop\\\\Senior Thesis\\\\Workspace\\\\Clip_Left_Synchronized.mp4', 'start': 0, 'end': 4}, {'filename': 'C:\\\\Users\\\\chris\\\\Desktop\\\\Senior Thesis\\\\Workspace\\\\Clip_Right_Synchronized.mp4', 'start': 4, 'end': 8}, {'filename': 'C:\\\\Users\\\\chris\\\\Desktop\\\\Senior Thesis\\\\Workspace\\\\Clip_Left_Synchronized.mp4', 'start': 8, 'end': 12}, {'filename': 'C:\\\\Users\\\\chris\\\\Desktop\\\\Senior Thesis\\\\Workspace\\\\Clip_Right_Synchronized.mp4', 'start': 12, 'end': 16}]\n"
     ]
    }
   ],
   "source": [
    "from processing.load import get_input_clips\n",
    "from editor.video import assemble\n",
    "\n",
    "clips = get_input_clips(r\"C:\\Users\\chris\\Desktop\\Senior Thesis\\Workspace\")\n",
    "data_clips = [{\n",
    "\t\"filename\": clips[0] if j % 2 == 0 else clips[1],\n",
    "\t\"start\": j * 4,\n",
    "\t\"end\": 4 + (j * 4)\n",
    "} for j in range(4)]\n",
    "print(data_clips)"
   ]
  },
  {
   "cell_type": "code",
   "execution_count": 9,
   "metadata": {},
   "outputs": [
    {
     "name": "stdout",
     "output_type": "stream",
     "text": [
      "Temporary clip name C:\\Users\\chris\\Desktop\\Senior Thesis\\Workspace\\Clip_Left_Synchronized_369598a0-c489-43bb-8a55-df92527a8741.mp4\n",
      "Temporary clip name C:\\Users\\chris\\Desktop\\Senior Thesis\\Workspace\\Clip_Right_Synchronized_29f70986-eb18-485b-9b5c-2910ebe87e89.mp4\n",
      "Temporary clip name C:\\Users\\chris\\Desktop\\Senior Thesis\\Workspace\\Clip_Left_Synchronized_34e4d10b-967f-40ef-98db-4c05e22006a5.mp4\n",
      "Temporary clip name C:\\Users\\chris\\Desktop\\Senior Thesis\\Workspace\\Clip_Right_Synchronized_f75755eb-9c3a-4a9d-9734-c3109ecff2b1.mp4\n",
      "['ffmpeg', '-y', '-f', 'concat', '-safe', '0', '-i', 'C:\\\\Users\\\\chris\\\\AppData\\\\Local\\\\Temp\\\\tmp__3b99x2\\\\input.txt', '-c:v', 'libx264', '-c:a', 'aac', '-preset', 'fast', 'Output_Video.mp4']\n",
      "Deleted temporary clip: C:\\Users\\chris\\Desktop\\Senior Thesis\\Workspace\\Clip_Left_Synchronized_369598a0-c489-43bb-8a55-df92527a8741.mp4\n",
      "Deleted temporary clip: C:\\Users\\chris\\Desktop\\Senior Thesis\\Workspace\\Clip_Right_Synchronized_29f70986-eb18-485b-9b5c-2910ebe87e89.mp4\n",
      "Deleted temporary clip: C:\\Users\\chris\\Desktop\\Senior Thesis\\Workspace\\Clip_Left_Synchronized_34e4d10b-967f-40ef-98db-4c05e22006a5.mp4\n",
      "Deleted temporary clip: C:\\Users\\chris\\Desktop\\Senior Thesis\\Workspace\\Clip_Right_Synchronized_f75755eb-9c3a-4a9d-9734-c3109ecff2b1.mp4\n"
     ]
    },
    {
     "data": {
      "text/plain": [
       "'Output_Video.mp4'"
      ]
     },
     "execution_count": 9,
     "metadata": {},
     "output_type": "execute_result"
    }
   ],
   "source": [
    "\n",
    "assemble(data_clips)"
   ]
  },
  {
   "cell_type": "code",
   "execution_count": 3,
   "metadata": {},
   "outputs": [
    {
     "name": "stdout",
     "output_type": "stream",
     "text": [
      "['C:\\\\Users\\\\chris\\\\Desktop\\\\Senior Thesis\\\\Workspace\\\\Clip_Left_Synchronized.mp4', 'C:\\\\Users\\\\chris\\\\Desktop\\\\Senior Thesis\\\\Workspace\\\\Clip_Right_Synchronized.mp4']\n",
      "C:\\Users\\chris\\Desktop\\Senior Thesis\\Workspace\\Clip_Left_Synchronized.mp4\n"
     ]
    }
   ],
   "source": [
    "clips = get_input_clips(r\"C:\\Users\\chris\\Desktop\\Senior Thesis\\Workspace\")\n",
    "print(clips)\n",
    "face_clip = clips[0]\n",
    "print(face_clip)"
   ]
  },
  {
   "cell_type": "code",
   "execution_count": 5,
   "metadata": {},
   "outputs": [],
   "source": [
    "from processing.features import detect_faces\n",
    "\n",
    "# clips_and_frames = detect_faces([clips[0]], method='haar')\n",
    "# print(clips)"
   ]
  },
  {
   "cell_type": "code",
   "execution_count": 19,
   "metadata": {},
   "outputs": [
    {
     "name": "stdout",
     "output_type": "stream",
     "text": [
      "{'edgeitems': 3, 'threshold': 20, 'floatmode': 'maxprec', 'precision': 8, 'suppress': False, 'linewidth': 75, 'nanstr': 'nan', 'infstr': 'inf', 'sign': '-', 'formatter': None, 'legacy': False}\n",
      "[array([[876, 174, 567, 567]]), array([[870, 166, 581, 581]]), array([[873, 168, 570, 570]]), array([[888, 171, 558, 558]]), array([[883, 161, 574, 574]]), array([[881, 156, 581, 581]]), array([[874, 138, 612, 612]]), array([[884, 140, 582, 582]]), array([[919, 171, 508, 508]]), array([[915, 164, 514, 514]]), array([[907, 154, 529, 529]]), array([[902, 149, 524, 524]]), array([[893, 149, 519, 519]]), array([[896, 163, 500, 500]]), array([[878, 160, 520, 520]]), array([[876, 154, 520, 520]]), array([[871, 160, 510, 510]]), array([[874, 165, 485, 485]]), array([[877, 174, 468, 468]]), array([[870, 182, 482, 482]]), array([[869, 178, 493, 493]]), array([[862, 184, 490, 490]]), array([[865, 200, 472, 472]]), array([[864, 209, 457, 457]]), array([[858, 204, 477, 477]]), array([[858, 203, 471, 471]]), array([[857, 208, 464, 464]]), array([[855, 215, 469, 469]]), array([[854, 217, 470, 470]]), array([[842, 219, 477, 477]]), array([[846, 228, 464, 464]]), array([[851, 229, 462, 462]]), array([[857, 244, 444, 444]]), array([[854, 238, 447, 447]]), array([[846, 232, 457, 457]]), array([[850, 240, 451, 451]]), array([[851, 246, 451, 451]]), array([[858, 255, 429, 429]]), array([[861, 258, 425, 425]]), array([[859, 253, 436, 436]]), array([[863, 251, 441, 441]]), array([[857, 249, 449, 449]]), array([[861, 252, 446, 446]]), array([[856, 249, 458, 458]]), array([[859, 252, 449, 449]]), array([[861, 254, 451, 451]]), array([[866, 260, 437, 437]]), array([[863, 254, 450, 450]]), array([[872, 260, 427, 427]]), array([[878, 259, 423, 423]]), array([[878, 253, 429, 429]]), array([[879, 260, 419, 419]]), array([[886, 260, 406, 406]]), array([[889, 258, 410, 410]]), array([[882, 255, 417, 417]]), array([[886, 258, 412, 412]]), array([[876, 255, 421, 421]]), array([[873, 261, 416, 416]]), array([[873, 264, 413, 413]]), array([[864, 258, 421, 421]]), array([[858, 258, 420, 420]]), array([[854, 254, 425, 425]]), array([[855, 264, 413, 413]]), array([[856, 269, 406, 406]]), array([[845, 263, 407, 407]]), array([[838, 256, 422, 422]]), array([[839, 259, 414, 414]]), array([[830, 253, 422, 422]]), array([[829, 259, 405, 405]]), array([[816, 249, 429, 429]]), array([[812, 249, 427, 427]]), array([[811, 246, 440, 440]]), array([[816, 252, 415, 415]]), array([[813, 253, 416, 416]]), array([[812, 253, 414, 414]]), array([[817, 260, 400, 400]]), array([[813, 264, 399, 399]]), array([[818, 267, 392, 392]]), array([[817, 261, 409, 409]]), array([[822, 269, 390, 390]]), array([[831, 276, 376, 376]]), array([[821, 272, 399, 399]]), array([[822, 270, 400, 400]]), array([[809, 259, 427, 427]]), array([[814, 263, 412, 412]]), array([[806, 252, 433, 433]]), array([[814, 262, 416, 416]]), array([[816, 257, 423, 423]]), array([[820, 262, 411, 411]]), array([[819, 259, 414, 414]]), array([[817, 253, 426, 426]]), array([[821, 254, 426, 426]]), array([[825, 259, 419, 419]]), array([[823, 255, 424, 424]]), array([[823, 252, 433, 433]]), array([[822, 252, 429, 429]]), array([[821, 252, 434, 434]]), array([[825, 252, 431, 431]]), array([[826, 253, 431, 431]]), array([[834, 259, 418, 418]]), array([[834, 264, 414, 414]]), array([[834, 261, 414, 414]]), array([[838, 263, 416, 416]]), array([[839, 268, 404, 404]]), array([[833, 259, 426, 426]]), array([[835, 257, 433, 433]]), array([[834, 257, 441, 441]]), array([[839, 266, 430, 430]]), array([[833, 261, 449, 449]]), array([[833, 258, 446, 446]]), array([[832, 254, 449, 449]]), array([[837, 253, 442, 442]]), array([[839, 259, 435, 435]]), array([[838, 258, 434, 434]]), array([[839, 254, 438, 438]]), array([[836, 253, 448, 448]]), array([[836, 246, 459, 459]]), array([[839, 253, 450, 450]]), array([[850, 256, 433, 433]]), array([[852, 256, 432, 432]]), array([[862, 262, 421, 421]]), array([[860, 256, 436, 436]]), array([[858, 249, 456, 456]]), array([[867, 256, 438, 438]]), array([[863, 245, 462, 462]]), array([[873, 257, 438, 438]]), array([[884, 263, 432, 432]]), array([[883, 257, 446, 446]]), array([[889, 265, 437, 437]]), array([[882, 258, 452, 452]]), array([[893, 267, 433, 433]]), array([[890, 265, 437, 437]]), array([[889, 268, 445, 445]]), array([[876, 252, 480, 480]]), array([[879, 260, 465, 465]]), array([[892, 276, 438, 438]]), array([[888, 272, 445, 445]]), array([[893, 276, 434, 434]]), array([[878, 262, 459, 459]]), array([[892, 276, 437, 437]]), array([[890, 270, 442, 442]]), array([[890, 268, 432, 432]]), array([[882, 265, 444, 444]]), array([[882, 262, 442, 442]]), array([[885, 273, 423, 423]]), array([[885, 274, 423, 423]]), array([[878, 266, 437, 437]]), array([[879, 265, 437, 437]]), array([[877, 267, 436, 436]]), array([[875, 266, 437, 437]]), array([[878, 275, 421, 421]]), array([[868, 271, 431, 431]]), array([[859, 263, 450, 450]]), array([[865, 270, 433, 433]]), array([[861, 266, 438, 438]]), array([[858, 266, 439, 439]]), array([[869, 276, 418, 418]]), array([[871, 284, 403, 403]]), array([[863, 269, 426, 426]]), array([[849, 255, 450, 450]]), array([[848, 253, 450, 450]]), array([[853, 251, 448, 448]]), array([[849, 251, 449, 449]]), array([[848, 246, 452, 452]]), array([[847, 240, 455, 455]]), array([[857, 245, 440, 440]]), array([[853, 247, 441, 441]]), array([[854, 245, 436, 436]]), array([[858, 248, 429, 429]]), array([[851, 243, 442, 442]]), array([[862, 246, 442, 442]]), array([[871, 255, 420, 420]]), array([[858, 257, 435, 435]]), array([[862, 266, 437, 437]]), array([[870, 275, 425, 425]]), array([[859, 261, 453, 453]]), array([[858, 260, 461, 461]]), array([[869, 279, 433, 433]]), array([[866, 276, 438, 438]]), array([[869, 277, 434, 434]]), array([[870, 280, 429, 429]]), array([[867, 277, 434, 434]]), array([[874, 280, 425, 425]]), array([[872, 277, 433, 433]]), array([[871, 276, 436, 436]]), array([[870, 283, 429, 429]]), array([[864, 271, 446, 446]]), array([[874, 278, 434, 434]]), array([[872, 277, 442, 442]]), array([[876, 275, 438, 438]]), array([[881, 276, 425, 425]]), array([[891, 288, 410, 410]]), array([[885, 279, 422, 422]]), array([[890, 277, 422, 422]]), array([[888, 269, 438, 438]]), array([[884, 266, 441, 441]]), array([[893, 265, 436, 436]]), array([[893, 264, 439, 439]]), array([[891, 264, 442, 442]]), array([[888, 262, 445, 445]]), array([[888, 265, 442, 442]]), array([[891, 271, 432, 432]]), array([[894, 276, 416, 416]]), array([[890, 270, 430, 430]]), array([[892, 272, 427, 427]]), array([[890, 276, 420, 420]]), array([[886, 266, 441, 441]]), array([[887, 267, 428, 428]]), array([[894, 271, 429, 429]]), array([[889, 270, 434, 434]]), array([[886, 265, 441, 441]]), array([[892, 264, 439, 439]]), array([[894, 268, 441, 441]]), array([[886, 256, 458, 458]]), array([[886, 249, 464, 464]]), array([[897, 258, 455, 455]]), array([[902, 257, 450, 450]]), array([[916, 269, 424, 424]]), array([[910, 258, 448, 448]]), array([[926, 264, 426, 426]]), array([[924, 262, 429, 429]]), array([[932, 258, 436, 436]]), array([[933, 249, 448, 448]]), array([[950, 260, 432, 432]]), array([[958, 260, 442, 442]]), array([[962, 243, 470, 470]]), array([[968, 236, 476, 476]]), array([[980, 240, 468, 468]]), array([[999, 244, 460, 460]]), array([[1018,  251,  444,  444]]), array([[1029,  239,  470,  470]]), array([[1078,  256,  430,  430]]), array([[1045,  245,  465,  465]]), array([[1097,  267,  422,  422]]), array([[1105,  264,  422,  422]]), array([[1129,  270,  415,  415]]), array([[1116,  264,  430,  430]]), array([[1162,  276,  410,  410]]), array([[1160,  262,  430,  430]]), array([[1178,  266,  430,  430]]), array([[1178,  266,  414,  414]]), array([[1203,  280,  405,  405]]), array([], dtype=float64), array([], dtype=float64), array([[536, 986,  86,  86]]), array([], dtype=float64), array([[540, 992,  69,  69]]), array([[537, 992,  69,  69]]), array([[1286,  315,  364,  364]]), array([[ 539, 1000,   53,   53]]), array([], dtype=float64), array([], dtype=float64), array([], dtype=float64), array([], dtype=float64), array([], dtype=float64), array([], dtype=float64), array([], dtype=float64), array([], dtype=float64), array([], dtype=float64), array([], dtype=float64), array([], dtype=float64), array([], dtype=float64), array([], dtype=float64), array([], dtype=float64), array([], dtype=float64), array([], dtype=float64), array([], dtype=float64), array([], dtype=float64), array([], dtype=float64), array([], dtype=float64), array([], dtype=float64), array([], dtype=float64), array([], dtype=float64), array([], dtype=float64), array([], dtype=float64), array([], dtype=float64), array([], dtype=float64), array([], dtype=float64), array([], dtype=float64), array([[540, 999,  56,  56]]), array([], dtype=float64), array([], dtype=float64), array([], dtype=float64), array([], dtype=float64), array([], dtype=float64), array([], dtype=float64), array([], dtype=float64), array([], dtype=float64), array([], dtype=float64), array([], dtype=float64), array([], dtype=float64), array([], dtype=float64), array([], dtype=float64), array([], dtype=float64), array([], dtype=float64), array([], dtype=float64), array([], dtype=float64), array([], dtype=float64), array([], dtype=float64), array([], dtype=float64), array([], dtype=float64), array([], dtype=float64), array([], dtype=float64), array([], dtype=float64), array([], dtype=float64), array([], dtype=float64), array([], dtype=float64), array([], dtype=float64), array([], dtype=float64), array([], dtype=float64), array([], dtype=float64), array([], dtype=float64), array([], dtype=float64), array([], dtype=float64), array([], dtype=float64), array([], dtype=float64), array([], dtype=float64), array([], dtype=float64), array([], dtype=float64), array([], dtype=float64), array([], dtype=float64), array([], dtype=float64), array([], dtype=float64), array([], dtype=float64), array([], dtype=float64), array([], dtype=float64), array([], dtype=float64), array([], dtype=float64), array([], dtype=float64), array([], dtype=float64), array([], dtype=float64), array([], dtype=float64), array([], dtype=float64), array([], dtype=float64), array([], dtype=float64), array([], dtype=float64), array([], dtype=float64), array([], dtype=float64), array([], dtype=float64), array([], dtype=float64), array([], dtype=float64), array([], dtype=float64), array([], dtype=float64), array([], dtype=float64), array([], dtype=float64), array([], dtype=float64), array([], dtype=float64), array([], dtype=float64), array([], dtype=float64), array([], dtype=float64), array([], dtype=float64), array([], dtype=float64), array([], dtype=float64), array([], dtype=float64), array([], dtype=float64), array([], dtype=float64), array([], dtype=float64), array([], dtype=float64), array([], dtype=float64), array([], dtype=float64), array([], dtype=float64), array([], dtype=float64), array([], dtype=float64), array([], dtype=float64), array([], dtype=float64), array([], dtype=float64), array([], dtype=float64), array([], dtype=float64), array([], dtype=float64), array([], dtype=float64), array([], dtype=float64), array([], dtype=float64), array([], dtype=float64), array([], dtype=float64), array([], dtype=float64), array([], dtype=float64), array([], dtype=float64), array([], dtype=float64), array([], dtype=float64), array([], dtype=float64), array([], dtype=float64), array([], dtype=float64), array([], dtype=float64), array([], dtype=float64), array([], dtype=float64), array([], dtype=float64), array([], dtype=float64), array([], dtype=float64), array([], dtype=float64), array([], dtype=float64), array([], dtype=float64), array([], dtype=float64), array([], dtype=float64), array([], dtype=float64), array([], dtype=float64), array([], dtype=float64), array([], dtype=float64), array([], dtype=float64), array([], dtype=float64), array([], dtype=float64), array([], dtype=float64), array([], dtype=float64), array([], dtype=float64), array([], dtype=float64), array([[538, 985,  89,  89]]), array([], dtype=float64), array([[536, 989,  79,  79]]), array([], dtype=float64), array([[538, 992,  69,  69]]), array([[540, 994,  65,  65]]), array([], dtype=float64), array([], dtype=float64), array([], dtype=float64), array([], dtype=float64), array([], dtype=float64), array([], dtype=float64), array([], dtype=float64), array([], dtype=float64), array([], dtype=float64), array([], dtype=float64), array([[ 538, 1000,   53,   53]]), array([[538, 999,  57,  57]]), array([[540, 998,  56,  56]]), array([[539, 998,  57,  57]]), array([[540, 998,  57,  57]]), array([], dtype=float64), array([[541, 998,  56,  56]]), array([], dtype=float64), array([], dtype=float64), array([], dtype=float64), array([], dtype=float64), array([], dtype=float64), array([[536, 992,  69,  69]]), array([[536, 992,  69,  69]]), array([[538, 992,  69,  69]]), array([[538, 992,  69,  69]]), array([[538, 990,  72,  72]]), array([], dtype=float64), array([], dtype=float64), array([], dtype=float64), array([], dtype=float64), array([], dtype=float64), array([], dtype=float64), array([], dtype=float64), array([[538, 992,  69,  69]]), array([[539, 992,  69,  69]]), array([[538, 992,  69,  69]]), array([[537, 994,  66,  66]]), array([[537, 995,  62,  62]]), array([[ 540, 1000,   53,   53]]), array([], dtype=float64), array([], dtype=float64), array([], dtype=float64), array([], dtype=float64), array([], dtype=float64), array([], dtype=float64), array([], dtype=float64), array([], dtype=float64), array([], dtype=float64), array([], dtype=float64), array([], dtype=float64), array([], dtype=float64), array([], dtype=float64), array([], dtype=float64), array([], dtype=float64), array([], dtype=float64), array([], dtype=float64), array([], dtype=float64), array([], dtype=float64), array([], dtype=float64), array([], dtype=float64), array([], dtype=float64), array([[1383,  353,  343,  343]]), array([[1363,  339,  373,  373]]), array([[1361,  329,  373,  373]]), array([[1333,  324,  368,  368]]), array([[1298,  292,  410,  410]]), array([[1311,  295,  403,  403]]), array([[1300,  277,  430,  430]]), array([[1303,  301,  380,  380]]), array([[1301,  295,  380,  380]]), array([[1277,  264,  430,  430]]), array([[1281,  286,  394,  394]]), array([], dtype=float64), array([], dtype=float64), array([[1273,  288,  414,  414]]), array([[1269,  309,  380,  380]]), array([[1239,  294,  402,  402]]), array([[1249,  302,  403,  403]]), array([[1226,  296,  407,  407]]), array([[1227,  306,  388,  388]]), array([[1197,  304,  397,  397]]), array([[1211,  306,  390,  390]]), array([[1176,  300,  399,  399]]), array([[1166,  296,  405,  405]]), array([[1163,  303,  388,  388]]), array([[1135,  288,  414,  414]]), array([[1126,  289,  410,  410],\n",
      "       [ 537,  998,   58,   58]]), array([[1110,  287,  411,  411]]), array([[1098,  288,  406,  406]]), array([[1095,  290,  399,  399],\n",
      "       [ 538,  992,   69,   69]]), array([[1089,  297,  387,  387],\n",
      "       [ 540,  992,   69,   69]]), array([[1075,  290,  402,  402]]), array([[1067,  292,  396,  396]]), array([[1054,  294,  390,  390],\n",
      "       [ 541,  984,   89,   89]]), array([[1043,  293,  392,  392]]), array([[1029,  290,  397,  397]]), array([[1019,  287,  400,  400]]), array([[1012,  292,  386,  386]]), array([[987, 282, 412, 412]]), array([[979, 282, 404, 404]]), array([[966, 288, 401, 401]]), array([[961, 285, 397, 397]]), array([[950, 290, 391, 391]]), array([[943, 289, 391, 391]]), array([[926, 275, 414, 414]]), array([[919, 284, 402, 402]]), array([[917, 285, 404, 404]]), array([[916, 293, 402, 402]]), array([[910, 295, 401, 401]]), array([[908, 290, 423, 423]]), array([[910, 297, 415, 415]]), array([[916, 298, 409, 409]]), array([[912, 298, 420, 420]]), array([[923, 305, 403, 403]]), array([[920, 307, 409, 409]]), array([[916, 298, 416, 416]]), array([[920, 301, 416, 416]]), array([[925, 304, 412, 412]]), array([[927, 303, 410, 410]]), array([[930, 308, 401, 401]]), array([[941, 318, 378, 378]]), array([[935, 302, 398, 398]]), array([[932, 300, 391, 391]]), array([[922, 296, 407, 407]]), array([[930, 303, 391, 391]]), array([[925, 305, 379, 379]]), array([[922, 301, 383, 383]]), array([[923, 303, 373, 373]]), array([[919, 293, 383, 383]]), array([[918, 287, 393, 393]]), array([[913, 286, 384, 384]]), array([[912, 284, 384, 384]]), array([[909, 279, 388, 388]]), array([[895, 261, 426, 426]]), array([[904, 269, 408, 408]]), array([[903, 268, 404, 404]]), array([[903, 268, 409, 409]]), array([[912, 273, 388, 388]]), array([[907, 269, 402, 402],\n",
      "       [537, 988,  78,  78]]), array([[909, 274, 405, 405]]), array([[916, 276, 391, 391]]), array([[920, 286, 385, 385]]), array([[925, 292, 380, 380]]), array([[914, 283, 413, 413],\n",
      "       [540, 984,  89,  89]]), array([[932, 299, 385, 385]]), array([[941, 303, 379, 379]]), array([[939, 298, 391, 391]]), array([[942, 299, 396, 396]]), array([[945, 300, 391, 391]]), array([[951, 306, 377, 377]]), array([[947, 297, 392, 392]]), array([[948, 298, 397, 397]]), array([[952, 298, 393, 393]]), array([[958, 303, 384, 384]]), array([[960, 302, 380, 380]]), array([[958, 298, 392, 392]]), array([[965, 303, 385, 385]]), array([[965, 298, 387, 387]]), array([[964, 294, 392, 392]]), array([[959, 284, 404, 404]]), array([[962, 285, 395, 395]]), array([[962, 276, 401, 401]]), array([[965, 282, 395, 395]]), array([[965, 279, 396, 396]]), array([[972, 288, 379, 379]]), array([[965, 289, 390, 390]]), array([[960, 281, 410, 410]]), array([[964, 294, 397, 397]]), array([[963, 297, 402, 402]]), array([[965, 303, 390, 390]]), array([[966, 304, 394, 394]]), array([[960, 301, 402, 402]]), array([[961, 302, 402, 402]]), array([[964, 312, 380, 380]]), array([[960, 302, 397, 397]]), array([[962, 304, 386, 386]]), array([[967, 308, 372, 372]]), array([[963, 307, 373, 373]]), array([[960, 301, 384, 384]]), array([[958, 298, 391, 391]]), array([[963, 306, 372, 372]]), array([[961, 303, 383, 383]]), array([[960, 304, 377, 377]]), array([[954, 296, 395, 395]]), array([[949, 288, 410, 410]]), array([[952, 293, 394, 394]]), array([[956, 287, 395, 395]]), array([[954, 285, 401, 401]]), array([[958, 285, 395, 395]]), array([[954, 281, 407, 407]]), array([[965, 289, 396, 396]]), array([[967, 287, 394, 394]]), array([[968, 287, 392, 392]]), array([[978, 295, 370, 370]]), array([[976, 293, 371, 371]]), array([[978, 286, 383, 383]]), array([[977, 278, 390, 390]]), array([[979, 279, 395, 395]]), array([[977, 272, 400, 400]]), array([[974, 261, 417, 417]]), array([[973, 265, 415, 415]]), array([[977, 265, 413, 413]]), array([[983, 262, 414, 414]]), array([[984, 256, 428, 428]]), array([[990, 261, 414, 414]]), array([[989, 251, 428, 428]]), array([[994, 259, 419, 419]]), array([[1005,  265,  403,  403]]), array([[1005,  264,  407,  407]]), array([[1007,  263,  416,  416]]), array([[1030,  284,  376,  376]]), array([[1022,  266,  411,  411]]), array([[1030,  272,  407,  407]]), array([[1035,  272,  408,  408]]), array([[1045,  278,  396,  396]]), array([[1044,  280,  404,  404]]), array([[1055,  280,  402,  402]]), array([[1058,  274,  408,  408]]), array([[1063,  275,  409,  409]]), array([[1068,  278,  413,  413]]), array([[1076,  281,  405,  405]]), array([[1070,  282,  424,  424]]), array([[1085,  287,  411,  411]]), array([[1084,  283,  420,  420]]), array([[1090,  288,  409,  409]]), array([[1099,  293,  399,  399]]), array([[1100,  287,  408,  408]]), array([[1103,  287,  410,  410]]), array([[1108,  293,  397,  397]]), array([[1117,  302,  391,  391]]), array([[1125,  305,  383,  383]]), array([[1119,  287,  413,  413]]), array([[1123,  287,  411,  411]]), array([[1125,  291,  401,  401]]), array([[1130,  291,  402,  402]]), array([[1132,  283,  421,  421]]), array([[1159,  292,  395,  395]]), array([[1153,  284,  419,  419]]), array([[1160,  288,  416,  416]]), array([[1198,  303,  400,  400]]), array([[1209,  312,  402,  402]]), array([[1184,  293,  410,  410],\n",
      "       [ 541,  984,   89,   89]]), array([[1227,  301,  420,  420],\n",
      "       [ 540,  984,   86,   86]]), array([[1255,  300,  430,  430]]), array([[535, 992,  72,  72]]), array([[538, 992,  69,  69]]), array([], dtype=float64), array([[537, 995,  63,  63]]), array([], dtype=float64), array([], dtype=float64), array([], dtype=float64), array([], dtype=float64), array([], dtype=float64), array([], dtype=float64), array([], dtype=float64), array([], dtype=float64), array([], dtype=float64), array([], dtype=float64), array([], dtype=float64), array([], dtype=float64), array([], dtype=float64), array([], dtype=float64), array([], dtype=float64), array([], dtype=float64), array([], dtype=float64), array([], dtype=float64), array([], dtype=float64), array([], dtype=float64), array([], dtype=float64), array([], dtype=float64), array([], dtype=float64), array([], dtype=float64), array([], dtype=float64), array([], dtype=float64), array([], dtype=float64), array([], dtype=float64), array([], dtype=float64), array([], dtype=float64), array([], dtype=float64), array([], dtype=float64), array([], dtype=float64), array([], dtype=float64), array([], dtype=float64), array([], dtype=float64), array([], dtype=float64), array([], dtype=float64), array([], dtype=float64), array([], dtype=float64), array([], dtype=float64), array([], dtype=float64), array([], dtype=float64), array([], dtype=float64), array([], dtype=float64), array([[539, 996,  60,  60]]), array([[537, 992,  69,  69]]), array([[538, 994,  66,  66]]), array([], dtype=float64), array([], dtype=float64), array([], dtype=float64), array([], dtype=float64), array([[536, 985,  89,  89]]), array([], dtype=float64), array([], dtype=float64), array([], dtype=float64), array([], dtype=float64), array([], dtype=float64), array([], dtype=float64), array([], dtype=float64), array([], dtype=float64), array([], dtype=float64), array([], dtype=float64), array([], dtype=float64), array([], dtype=float64), array([], dtype=float64), array([], dtype=float64), array([], dtype=float64), array([], dtype=float64), array([], dtype=float64), array([], dtype=float64), array([], dtype=float64), array([], dtype=float64), array([[544, 984,  89,  89]]), array([], dtype=float64), array([], dtype=float64), array([], dtype=float64), array([], dtype=float64), array([], dtype=float64), array([], dtype=float64), array([], dtype=float64), array([], dtype=float64), array([], dtype=float64), array([], dtype=float64), array([], dtype=float64), array([[537, 993,  67,  67]]), array([], dtype=float64), array([], dtype=float64), array([], dtype=float64), array([], dtype=float64), array([], dtype=float64), array([], dtype=float64), array([], dtype=float64), array([], dtype=float64), array([], dtype=float64), array([], dtype=float64), array([], dtype=float64), array([], dtype=float64), array([], dtype=float64), array([], dtype=float64), array([], dtype=float64), array([], dtype=float64), array([], dtype=float64), array([], dtype=float64), array([], dtype=float64), array([], dtype=float64), array([], dtype=float64), array([], dtype=float64), array([], dtype=float64), array([], dtype=float64), array([], dtype=float64), array([], dtype=float64), array([], dtype=float64), array([], dtype=float64), array([], dtype=float64), array([], dtype=float64), array([], dtype=float64), array([], dtype=float64), array([], dtype=float64), array([], dtype=float64), array([], dtype=float64), array([], dtype=float64), array([], dtype=float64), array([], dtype=float64), array([], dtype=float64), array([], dtype=float64), array([], dtype=float64), array([], dtype=float64), array([], dtype=float64), array([], dtype=float64), array([], dtype=float64), array([], dtype=float64), array([], dtype=float64), array([], dtype=float64), array([], dtype=float64), array([], dtype=float64), array([], dtype=float64), array([], dtype=float64), array([], dtype=float64), array([], dtype=float64), array([], dtype=float64), array([], dtype=float64), array([], dtype=float64), array([], dtype=float64), array([], dtype=float64), array([], dtype=float64), array([], dtype=float64), array([], dtype=float64), array([], dtype=float64), array([], dtype=float64), array([], dtype=float64), array([], dtype=float64), array([], dtype=float64), array([], dtype=float64), array([], dtype=float64), array([], dtype=float64), array([], dtype=float64), array([], dtype=float64), array([], dtype=float64), array([], dtype=float64), array([], dtype=float64), array([], dtype=float64), array([], dtype=float64), array([], dtype=float64), array([], dtype=float64), array([], dtype=float64), array([], dtype=float64), array([], dtype=float64), array([], dtype=float64), array([], dtype=float64), array([], dtype=float64), array([], dtype=float64), array([], dtype=float64), array([], dtype=float64), array([], dtype=float64), array([], dtype=float64), array([], dtype=float64), array([], dtype=float64), array([], dtype=float64), array([], dtype=float64), array([], dtype=float64), array([], dtype=float64), array([], dtype=float64), array([], dtype=float64), array([], dtype=float64), array([], dtype=float64), array([[1221,  337,  364,  364]]), array([[1233,  349,  348,  348]]), array([[1217,  339,  358,  358]]), array([[1208,  324,  380,  380]]), array([[1176,  320,  375,  375]]), array([[1150,  298,  405,  405]]), array([[1130,  292,  410,  410]]), array([[1147,  302,  403,  403]]), array([[1128,  306,  378,  378]]), array([[1114,  294,  387,  387]]), array([[1085,  285,  402,  402]]), array([[1081,  285,  394,  394]]), array([[1076,  282,  395,  395]]), array([[1049,  278,  400,  400]]), array([[1038,  277,  398,  398]]), array([[1023,  272,  390,  390]]), array([[999, 265, 411, 411]]), array([[971, 257, 425, 425]]), array([[968, 263, 401, 401]]), array([[954, 261, 405, 405]]), array([[942, 262, 401, 401]]), array([[921, 254, 412, 412]]), array([[921, 259, 389, 389]]), array([[911, 260, 390, 390]]), array([[910, 256, 381, 381]]), array([[900, 247, 399, 399]]), array([[905, 246, 395, 395]]), array([[905, 241, 398, 398]]), array([[899, 235, 420, 420]]), array([[909, 235, 414, 414]]), array([[918, 244, 401, 401]]), array([[923, 242, 401, 401]]), array([[922, 243, 404, 404]]), array([[927, 237, 411, 411]]), array([[920, 237, 424, 424]]), array([[919, 237, 428, 428]]), array([[922, 237, 420, 420]]), array([[920, 233, 430, 430]]), array([[921, 230, 437, 437]]), array([[898, 222, 472, 472]]), array([[901, 226, 462, 462]]), array([[886, 218, 482, 482]]), array([[883, 218, 482, 482]]), array([[883, 217, 477, 477]]), array([[865, 215, 493, 493]]), array([[862, 216, 480, 480]]), array([[854, 217, 486, 486]]), array([[846, 219, 494, 494]]), array([[846, 222, 476, 476]]), array([[847, 225, 469, 469]]), array([[842, 220, 476, 476]]), array([[835, 213, 493, 493]]), array([[837, 216, 479, 479]]), array([[836, 214, 482, 482]]), array([[831, 212, 486, 486]]), array([[824, 205, 491, 491]]), array([[817, 199, 499, 499]]), array([[809, 190, 517, 517]]), array([[819, 194, 499, 499]]), array([[808, 196, 506, 506]]), array([[809, 194, 512, 512]]), array([[814, 198, 500, 500]]), array([[799, 191, 516, 516]]), array([[797, 186, 527, 527]]), array([[791, 186, 537, 537]]), array([[784, 184, 546, 546]]), array([[784, 184, 537, 537]]), array([[791, 192, 532, 532]]), array([[794, 192, 530, 530]])]\n"
     ]
    }
   ],
   "source": [
    "print(np.get_printoptions())\n",
    "print(clips_and_frames[0]['detections'])"
   ]
  },
  {
   "cell_type": "code",
   "execution_count": 21,
   "metadata": {},
   "outputs": [
    {
     "data": {
      "text/plain": [
       "IPython.core.display.Video"
      ]
     },
     "execution_count": 21,
     "metadata": {},
     "output_type": "execute_result"
    }
   ],
   "source": [
    "from IPython.display import Video \n",
    "Video"
   ]
  },
  {
   "cell_type": "code",
   "execution_count": 20,
   "metadata": {},
   "outputs": [
    {
     "ename": "ModuleNotFoundError",
     "evalue": "No module named 'ipywidgets'",
     "output_type": "error",
     "traceback": [
      "\u001b[1;31m---------------------------------------------------------------------------\u001b[0m",
      "\u001b[1;31mModuleNotFoundError\u001b[0m                       Traceback (most recent call last)",
      "Cell \u001b[1;32mIn[20], line 1\u001b[0m\n\u001b[1;32m----> 1\u001b[0m \u001b[38;5;28;01mimport\u001b[39;00m \u001b[38;5;21;01mipywidgets\u001b[39;00m\n",
      "\u001b[1;31mModuleNotFoundError\u001b[0m: No module named 'ipywidgets'"
     ]
    }
   ],
   "source": [
    "import ipywidgets"
   ]
  },
  {
   "cell_type": "markdown",
   "metadata": {},
   "source": [
    "## Simple Editor"
   ]
  },
  {
   "cell_type": "code",
   "execution_count": 11,
   "metadata": {},
   "outputs": [],
   "source": [
    "from processing.load import get_input_clips\n"
   ]
  },
  {
   "cell_type": "code",
   "execution_count": 13,
   "metadata": {},
   "outputs": [
    {
     "name": "stdout",
     "output_type": "stream",
     "text": [
      "['C:\\\\Users\\\\chris\\\\Desktop\\\\Senior Thesis\\\\Workspace\\\\Clip2.MOV', 'C:\\\\Users\\\\chris\\\\Desktop\\\\Senior Thesis\\\\Workspace\\\\Clip_Left_Synchronized.mp4', 'C:\\\\Users\\\\chris\\\\Desktop\\\\Senior Thesis\\\\Workspace\\\\Clip_Right_Synchronized.mp4']\n"
     ]
    }
   ],
   "source": [
    "clips = get_input_clips(r\"C:\\Users\\chris\\Desktop\\Senior Thesis\\Workspace\")\n",
    "edit, \n",
    "print(clips)"
   ]
  },
  {
   "cell_type": "code",
   "execution_count": 6,
   "metadata": {},
   "outputs": [],
   "source": [
    "from editor.editor import edit_simple\n",
    "from editor.core import Edit, MetaClipData\n",
    "from processing.load import save_edit, load_edit, setup_editor"
   ]
  },
  {
   "cell_type": "markdown",
   "metadata": {},
   "source": [
    "Let's initialize our edit sequence, if you haven't done this previously"
   ]
  },
  {
   "cell_type": "code",
   "execution_count": 11,
   "metadata": {},
   "outputs": [
    {
     "name": "stdout",
     "output_type": "stream",
     "text": [
      "Clips to process:  ['C:\\\\Users\\\\chris\\\\Desktop\\\\Senior Thesis\\\\clips\\\\ThesisClip1.MOV', 'C:\\\\Users\\\\chris\\\\Desktop\\\\Senior Thesis\\\\clips\\\\ThesisClip2.MOV']\n",
      "C:\\Users\\chris\\Desktop\\Senior Thesis\\clips\\ThesisClip1.MOV\n"
     ]
    },
    {
     "name": "stderr",
     "output_type": "stream",
     "text": [
      " 21%|██        | 320/1506 [00:21<01:18, 15.02it/s]\n"
     ]
    },
    {
     "name": "stdout",
     "output_type": "stream",
     "text": [
      "Unexpected exception formatting exception. Falling back to standard exception\n"
     ]
    },
    {
     "name": "stderr",
     "output_type": "stream",
     "text": [
      "Traceback (most recent call last):\n",
      "  File \"c:\\Users\\chris\\anaconda3\\envs\\thesis_env\\lib\\site-packages\\IPython\\core\\interactiveshell.py\", line 3505, in run_code\n",
      "    exec(code_obj, self.user_global_ns, self.user_ns)\n",
      "  File \"C:\\Users\\chris\\AppData\\Local\\Temp\\ipykernel_36020\\3269114607.py\", line 5, in <module>\n",
      "    edit, annotations = setup_editor(\n",
      "  File \"c:\\Users\\chris\\Desktop\\Senior Thesis\\processing\\load.py\", line 11, in setup_editor\n",
      "    annotations = process_clips(clips)\n",
      "  File \"c:\\Users\\chris\\Desktop\\Senior Thesis\\processing\\features.py\", line 10, in process_clips\n",
      "    annotations = detect_faces(clips, method)\n",
      "  File \"c:\\Users\\chris\\Desktop\\Senior Thesis\\processing\\features.py\", line 72, in detect_faces\n",
      "    for clip in clips:\n",
      "  File \"c:\\Users\\chris\\Desktop\\Senior Thesis\\processing\\features.py\", line 41, in detect_faces_cascade\n",
      "KeyboardInterrupt\n",
      "\n",
      "During handling of the above exception, another exception occurred:\n",
      "\n",
      "Traceback (most recent call last):\n",
      "  File \"c:\\Users\\chris\\anaconda3\\envs\\thesis_env\\lib\\site-packages\\IPython\\core\\interactiveshell.py\", line 2102, in showtraceback\n",
      "    stb = self.InteractiveTB.structured_traceback(\n",
      "  File \"c:\\Users\\chris\\anaconda3\\envs\\thesis_env\\lib\\site-packages\\IPython\\core\\ultratb.py\", line 1310, in structured_traceback\n",
      "    return FormattedTB.structured_traceback(\n",
      "  File \"c:\\Users\\chris\\anaconda3\\envs\\thesis_env\\lib\\site-packages\\IPython\\core\\ultratb.py\", line 1199, in structured_traceback\n",
      "    return VerboseTB.structured_traceback(\n",
      "  File \"c:\\Users\\chris\\anaconda3\\envs\\thesis_env\\lib\\site-packages\\IPython\\core\\ultratb.py\", line 1052, in structured_traceback\n",
      "    formatted_exception = self.format_exception_as_a_whole(etype, evalue, etb, number_of_lines_of_context,\n",
      "  File \"c:\\Users\\chris\\anaconda3\\envs\\thesis_env\\lib\\site-packages\\IPython\\core\\ultratb.py\", line 978, in format_exception_as_a_whole\n",
      "    frames.append(self.format_record(record))\n",
      "  File \"c:\\Users\\chris\\anaconda3\\envs\\thesis_env\\lib\\site-packages\\IPython\\core\\ultratb.py\", line 878, in format_record\n",
      "    frame_info.lines, Colors, self.has_colors, lvals\n",
      "  File \"c:\\Users\\chris\\anaconda3\\envs\\thesis_env\\lib\\site-packages\\IPython\\core\\ultratb.py\", line 712, in lines\n",
      "    return self._sd.lines\n",
      "  File \"c:\\Users\\chris\\anaconda3\\envs\\thesis_env\\lib\\site-packages\\stack_data\\utils.py\", line 144, in cached_property_wrapper\n",
      "    value = obj.__dict__[self.func.__name__] = self.func(obj)\n",
      "  File \"c:\\Users\\chris\\anaconda3\\envs\\thesis_env\\lib\\site-packages\\stack_data\\core.py\", line 734, in lines\n",
      "    pieces = self.included_pieces\n",
      "  File \"c:\\Users\\chris\\anaconda3\\envs\\thesis_env\\lib\\site-packages\\stack_data\\utils.py\", line 144, in cached_property_wrapper\n",
      "    value = obj.__dict__[self.func.__name__] = self.func(obj)\n",
      "  File \"c:\\Users\\chris\\anaconda3\\envs\\thesis_env\\lib\\site-packages\\stack_data\\core.py\", line 681, in included_pieces\n",
      "    pos = scope_pieces.index(self.executing_piece)\n",
      "  File \"c:\\Users\\chris\\anaconda3\\envs\\thesis_env\\lib\\site-packages\\stack_data\\utils.py\", line 144, in cached_property_wrapper\n",
      "    value = obj.__dict__[self.func.__name__] = self.func(obj)\n",
      "  File \"c:\\Users\\chris\\anaconda3\\envs\\thesis_env\\lib\\site-packages\\stack_data\\core.py\", line 660, in executing_piece\n",
      "    return only(\n",
      "  File \"c:\\Users\\chris\\anaconda3\\envs\\thesis_env\\lib\\site-packages\\executing\\executing.py\", line 116, in only\n",
      "    raise NotOneValueFound('Expected one value, found 0')\n",
      "executing.executing.NotOneValueFound: Expected one value, found 0\n"
     ]
    }
   ],
   "source": [
    "edit_title = \"my_edit\"\n",
    "annotations_title = \"clip_annotations\"\n",
    "previous_edit, previous_annotations = \"\", annotations_title\n",
    "\n",
    "edit, annotations = setup_editor(\n",
    "    new_edit_title=edit_title,\n",
    "    new_annotation_title=annotations_title,\n",
    "    clips_src_dir=r\"C:\\Users\\chris\\Desktop\\Senior Thesis\\clips\",\n",
    "    previous_edit_filename=previous_edit,\n",
    "    previous_annotation_filename=previous_annotations)\n",
    "print(edit.duration, edit.edit_list)"
   ]
  },
  {
   "cell_type": "code",
   "execution_count": 20,
   "metadata": {},
   "outputs": [
    {
     "data": {
      "application/vnd.jupyter.widget-view+json": {
       "model_id": "0f827c86985b41f4b9825beeda65025f",
       "version_major": 2,
       "version_minor": 0
      },
      "text/plain": [
       "Text(value='', description='Text:', placeholder='Type something')"
      ]
     },
     "metadata": {},
     "output_type": "display_data"
    },
    {
     "data": {
      "application/vnd.jupyter.widget-view+json": {
       "model_id": "4d1ed4ac3a5f45b4ab314c968d6ed21a",
       "version_major": 2,
       "version_minor": 0
      },
      "text/plain": [
       "Text(value='', description='Additional Text:', placeholder='Type something')"
      ]
     },
     "metadata": {},
     "output_type": "display_data"
    }
   ],
   "source": [
    "from IPython.display import display\n",
    "import ipywidgets as widgets\n",
    "\n",
    "# Create a text input widget\n",
    "text_input = widgets.Text(\n",
    "    value='',  # Default value\n",
    "    placeholder='Type something',  # Placeholder text\n",
    "    description='Text:',  # Label for the input box\n",
    "    disabled=False  # Whether the input is disabled or not\n",
    ")\n",
    "# Create a text input widget\n",
    "another_text_input = widgets.Text(\n",
    "    value='',  # Default value\n",
    "    placeholder='Type something',  # Placeholder text\n",
    "    description='Additional Text:',  # Label for the input box\n",
    "    disabled=False  # Whether the input is disabled or not\n",
    ")\n",
    "\n",
    "# Display the text input widget\n",
    "display(text_input)\n",
    "display(another_text_input)"
   ]
  },
  {
   "cell_type": "code",
   "execution_count": 22,
   "metadata": {},
   "outputs": [
    {
     "name": "stdout",
     "output_type": "stream",
     "text": [
      "Something\n",
      "Something else\n"
     ]
    }
   ],
   "source": [
    "print(text_input.value)\n",
    "print(another_text_input.value)"
   ]
  },
  {
   "cell_type": "code",
   "execution_count": null,
   "metadata": {},
   "outputs": [],
   "source": []
  }
 ],
 "metadata": {
  "kernelspec": {
   "display_name": "thesis_env",
   "language": "python",
   "name": "python3"
  },
  "language_info": {
   "codemirror_mode": {
    "name": "ipython",
    "version": 3
   },
   "file_extension": ".py",
   "mimetype": "text/x-python",
   "name": "python",
   "nbconvert_exporter": "python",
   "pygments_lexer": "ipython3",
   "version": "3.8.19"
  }
 },
 "nbformat": 4,
 "nbformat_minor": 2
}
