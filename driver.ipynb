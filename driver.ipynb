{
 "cells": [
  {
   "cell_type": "markdown",
   "metadata": {},
   "source": [
    "# Primary Editing Interface Notebook"
   ]
  },
  {
   "cell_type": "code",
   "execution_count": 4,
   "metadata": {},
   "outputs": [
    {
     "ename": "ModuleNotFoundError",
     "evalue": "No module named 'ipy_autoreload'",
     "output_type": "error",
     "traceback": [
      "\u001b[1;31m---------------------------------------------------------------------------\u001b[0m",
      "\u001b[1;31mModuleNotFoundError\u001b[0m                       Traceback (most recent call last)",
      "Cell \u001b[1;32mIn[4], line 1\u001b[0m\n\u001b[1;32m----> 1\u001b[0m \u001b[38;5;28;01mimport\u001b[39;00m \u001b[38;5;21;01mipy_autoreload\u001b[39;00m\n\u001b[0;32m      2\u001b[0m get_ipython()\u001b[38;5;241m.\u001b[39mrun_line_magic(\u001b[38;5;124m'\u001b[39m\u001b[38;5;124mautoreload\u001b[39m\u001b[38;5;124m'\u001b[39m, \u001b[38;5;124m'\u001b[39m\u001b[38;5;124m2\u001b[39m\u001b[38;5;124m'\u001b[39m)\n",
      "\u001b[1;31mModuleNotFoundError\u001b[0m: No module named 'ipy_autoreload'"
     ]
    }
   ],
   "source": [
    "import autoreload\n",
    "%load_ext autoreload\n",
    "%autoreload 2"
   ]
  },
  {
   "cell_type": "code",
   "execution_count": 2,
   "metadata": {},
   "outputs": [
    {
     "name": "stdout",
     "output_type": "stream",
     "text": [
      "[[1 2]\n",
      " [3 4]] (2, 2)\n"
     ]
    }
   ],
   "source": [
    "import numpy as np\n",
    "\n",
    "data = np.array([[1, 2], [3, 4]])\n",
    "print(data, data.shape)\n"
   ]
  },
  {
   "cell_type": "code",
   "execution_count": 5,
   "metadata": {},
   "outputs": [],
   "source": [
    "output_dir = 'laughter_detection_output' #@param {type:\"string\"}"
   ]
  },
  {
   "cell_type": "code",
   "execution_count": 4,
   "metadata": {},
   "outputs": [
    {
     "name": "stdout",
     "output_type": "stream",
     "text": [
      "Edit Data Saved\n"
     ]
    }
   ],
   "source": [
    "from processing.load import save_current_edit, load_previous_edit\n",
    "\n",
    "save_current_edit([{\"name\": \"Christopher\"}, {\"clip_title\": \"ViewShot1NoAudio.mp4\"}], \"new_edit.json\")\n"
   ]
  },
  {
   "cell_type": "code",
   "execution_count": 6,
   "metadata": {},
   "outputs": [
    {
     "name": "stdout",
     "output_type": "stream",
     "text": [
      "Previous Edit Data Loaded\n",
      "[{'name': 'Christopher'}, {'clip_title': 'ViewShot1NoAudio.mp4'}]\n"
     ]
    }
   ],
   "source": [
    "past_edit = load_previous_edit(\"new_edit.json\")\n",
    "print(past_edit)"
   ]
  },
  {
   "cell_type": "code",
   "execution_count": 1,
   "metadata": {},
   "outputs": [
    {
     "name": "stdout",
     "output_type": "stream",
     "text": [
      "[{'filename': 'C:\\\\Users\\\\chris\\\\Desktop\\\\Senior Thesis\\\\Workspace\\\\Clip2.MOV', 'start': 0, 'end': 4}, {'filename': 'C:\\\\Users\\\\chris\\\\Desktop\\\\Senior Thesis\\\\Workspace\\\\Clip2.MOV', 'start': 0, 'end': 5}, {'filename': 'C:\\\\Users\\\\chris\\\\Desktop\\\\Senior Thesis\\\\Workspace\\\\Clip2.MOV', 'start': 0, 'end': 6}, {'filename': 'C:\\\\Users\\\\chris\\\\Desktop\\\\Senior Thesis\\\\Workspace\\\\Clip2.MOV', 'start': 0, 'end': 7}]\n"
     ]
    }
   ],
   "source": [
    "from processing.load import get_input_clips\n",
    "from editor.video import assemble\n",
    "\n",
    "clips = get_input_clips(r\"C:\\Users\\chris\\Desktop\\Senior Thesis\\Workspace\")\n",
    "data_clips = [{\n",
    "\t\"filename\": clips[0],\n",
    "\t\"start\": 0,\n",
    "\t\"end\": 4+ i\n",
    "} for i in range(4)]\n",
    "print(data_clips)"
   ]
  },
  {
   "cell_type": "code",
   "execution_count": 7,
   "metadata": {},
   "outputs": [
    {
     "name": "stdout",
     "output_type": "stream",
     "text": [
      "Temporary clip name C:\\Users\\chris\\Desktop\\Senior Thesis\\Workspace\\house of unrecognized talent_82b46af0-4b50-44bc-8e7d-d2b978f0b167.mp4\n",
      "Temporary clip name C:\\Users\\chris\\Desktop\\Senior Thesis\\Workspace\\house of unrecognized talent_6bb154fa-19ad-4e29-a123-73ca2676e921.mp4\n",
      "Temporary clip name C:\\Users\\chris\\Desktop\\Senior Thesis\\Workspace\\house of unrecognized talent_3fd3920d-2a64-4e85-b662-11776afe7c92.mp4\n",
      "Temporary clip name C:\\Users\\chris\\Desktop\\Senior Thesis\\Workspace\\house of unrecognized talent_0117b20d-6862-43ef-b876-be0a37a5bc70.mp4\n",
      "['ffmpeg', '-y', '-f', 'concat', '-safe', '0', '-i', 'C:\\\\Users\\\\chris\\\\AppData\\\\Local\\\\Temp\\\\tmpsfgo9qsg\\\\input.txt', '-c:v', 'libx264', '-c:a', 'aac', '-preset', 'fast', 'Output_Video.mp4']\n",
      "Deleted temporary clip: C:\\Users\\chris\\Desktop\\Senior Thesis\\Workspace\\house of unrecognized talent_82b46af0-4b50-44bc-8e7d-d2b978f0b167.mp4\n",
      "Deleted temporary clip: C:\\Users\\chris\\Desktop\\Senior Thesis\\Workspace\\house of unrecognized talent_6bb154fa-19ad-4e29-a123-73ca2676e921.mp4\n",
      "Deleted temporary clip: C:\\Users\\chris\\Desktop\\Senior Thesis\\Workspace\\house of unrecognized talent_3fd3920d-2a64-4e85-b662-11776afe7c92.mp4\n",
      "Deleted temporary clip: C:\\Users\\chris\\Desktop\\Senior Thesis\\Workspace\\house of unrecognized talent_0117b20d-6862-43ef-b876-be0a37a5bc70.mp4\n"
     ]
    },
    {
     "data": {
      "text/plain": [
       "'Output_Video.mp4'"
      ]
     },
     "execution_count": 7,
     "metadata": {},
     "output_type": "execute_result"
    }
   ],
   "source": [
    "\n",
    "assemble(data_clips)"
   ]
  },
  {
   "cell_type": "code",
   "execution_count": 2,
   "metadata": {},
   "outputs": [
    {
     "name": "stdout",
     "output_type": "stream",
     "text": [
      "['C:\\\\Users\\\\chris\\\\Desktop\\\\Senior Thesis\\\\Workspace\\\\Clip2.MOV', 'C:\\\\Users\\\\chris\\\\Desktop\\\\Senior Thesis\\\\Workspace\\\\house of unrecognized talent.mp4']\n"
     ]
    }
   ],
   "source": [
    "clips = get_input_clips(r\"C:\\Users\\chris\\Desktop\\Senior Thesis\\Workspace\")\n",
    "print(clips)\n",
    "face_clip = clips[0]\n"
   ]
  },
  {
   "cell_type": "code",
   "execution_count": 5,
   "metadata": {},
   "outputs": [
    {
     "name": "stdout",
     "output_type": "stream",
     "text": [
      "[array([[876, 174, 567, 567]])]\n"
     ]
    }
   ],
   "source": [
    "from processing.features import detect_faces_cascade\n",
    "\n",
    "frames = detect_faces_cascade(face_clip)\n",
    "print(frames)"
   ]
  },
  {
   "cell_type": "code",
   "execution_count": null,
   "metadata": {},
   "outputs": [],
   "source": []
  }
 ],
 "metadata": {
  "kernelspec": {
   "display_name": "thesis_env",
   "language": "python",
   "name": "python3"
  },
  "language_info": {
   "codemirror_mode": {
    "name": "ipython",
    "version": 3
   },
   "file_extension": ".py",
   "mimetype": "text/x-python",
   "name": "python",
   "nbconvert_exporter": "python",
   "pygments_lexer": "ipython3",
   "version": "3.8.19"
  }
 },
 "nbformat": 4,
 "nbformat_minor": 2
}
